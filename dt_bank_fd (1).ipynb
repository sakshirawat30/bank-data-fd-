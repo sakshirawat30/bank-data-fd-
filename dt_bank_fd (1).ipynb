{
 "cells": [
  {
   "cell_type": "code",
   "execution_count": 88,
   "id": "828ea52e",
   "metadata": {},
   "outputs": [],
   "source": [
    "import os\n",
    "import pandas as pd\n",
    "import numpy as np\n",
    "import matplotlib.pyplot as plt\n",
    "import seaborn as sns\n",
    "\n",
    "from sklearn import metrics\n",
    "from sklearn.model_selection import train_test_split, GridSearchCV\n",
    "from sklearn.tree import DecisionTreeClassifier"
   ]
  },
  {
   "cell_type": "code",
   "execution_count": 89,
   "id": "e0301f09",
   "metadata": {},
   "outputs": [],
   "source": [
    "os.chdir(r\"C:\\Users\\admim\\Downloads\")"
   ]
  },
  {
   "cell_type": "code",
   "execution_count": 90,
   "id": "6ab4a916",
   "metadata": {},
   "outputs": [
    {
     "data": {
      "text/plain": [
       "['.ipynb_checkpoints',\n",
       " '164922241976960ec2379f8793842aa5b168a_.zip',\n",
       " '165122095024660ec2379f8793842aa5b168a_',\n",
       " '165122534897360ec2379f8793842aa5b168a_.zip',\n",
       " '165408461178060ec2379f8793842aa5b168a_',\n",
       " '165408527393260ec2379f8793842aa5b168a_.zip',\n",
       " '165408581174360ec2379f8793842aa5b168a_.zip',\n",
       " '2-In-class Exercise',\n",
       " '3-In class Exercise',\n",
       " '62c6d7f7e88ed406e8f7ffbc_1659081178601_sakshi test1.sql',\n",
       " '62c6d7f7e88ed406e8f7ffbc_1660646126777_sakshi test 2.ipynb',\n",
       " 'act_pred_train.xlsx',\n",
       " 'Anaconda3-2022.05-Windows-x86_64.exe',\n",
       " 'archive',\n",
       " 'archive.zip',\n",
       " 'assignmentonpandas',\n",
       " 'assignmentonpandas.rar',\n",
       " 'bank.xlsx',\n",
       " 'Banks_full.csv',\n",
       " 'Bank_Account_Details.csv',\n",
       " 'BANK_ACCOUNT_TRANSACTION.csv',\n",
       " 'Bank_customer.csv',\n",
       " 'Books _ text book on Stats.pdf',\n",
       " 'car data.csv',\n",
       " 'Car details v3.csv',\n",
       " 'car_done.csv',\n",
       " 'CaseStudy (1).zip',\n",
       " 'CaseStudy (2).zip',\n",
       " 'CaseStudy.zip',\n",
       " 'cds',\n",
       " 'ChromeSetup.exe',\n",
       " 'Conditional_statement_loops.ipynb',\n",
       " 'corr.xlsx',\n",
       " 'covid19_sample.csv',\n",
       " 'Customer.csv',\n",
       " 'Customer.xlsx',\n",
       " 'Cust_data.csv',\n",
       " 'Cust_demo.csv',\n",
       " 'cust_new.csv',\n",
       " 'Data.csv',\n",
       " 'data_dictionary_trip_records_yellow.pdf',\n",
       " 'DecisionTreeTheory.ipynb',\n",
       " 'desktop.ini',\n",
       " 'DiabeticData',\n",
       " 'DiabeticData.zip',\n",
       " 'Documents - Shortcut.lnk',\n",
       " 'DT_Bank_FD.ipynb',\n",
       " 'e commerce.ipynb',\n",
       " 'Ecommerce.xlsx - Sheet1.csv',\n",
       " 'EDA (1).ipynb',\n",
       " 'EDA.ipynb',\n",
       " 'Ensemble.ipynb',\n",
       " 'fess1dd.zip',\n",
       " 'fess2dd.zip',\n",
       " 'fess3dd.zip',\n",
       " 'Functions.ipynb',\n",
       " 'Geograohy 6',\n",
       " 'geography 7',\n",
       " 'gess1dd.zip',\n",
       " 'gess2dd.zip',\n",
       " 'gess3dd.zip',\n",
       " 'history 6',\n",
       " 'history 7',\n",
       " 'HR_comma_sep.csv',\n",
       " 'Hypothesis Testing- Case Study.pdf',\n",
       " 'imarticus pdf sql.pdf',\n",
       " 'imarticus pdf2 sql.pdf',\n",
       " 'IMG20221118120109sakshi.jpg',\n",
       " 'intro_pkg.ipynb',\n",
       " 'kc home (1).ipynb',\n",
       " 'kc home.ipynb',\n",
       " 'kc house.py',\n",
       " 'kc_house_data (1).csv',\n",
       " 'kc_house_data.csv',\n",
       " 'kegy2dd',\n",
       " 'kegy2dd.zip',\n",
       " 'Laptop.csv',\n",
       " 'LinearRegressionCarSales.ipynb',\n",
       " 'Loan Aarushi ML',\n",
       " 'Loan Aarushi ML.zip',\n",
       " 'loandata linear reg (1).py',\n",
       " 'LoansData (1).csv',\n",
       " 'LoansData (2).csv',\n",
       " 'LoansData.csv',\n",
       " 'Loan_SVM',\n",
       " 'Loan_SVM.zip',\n",
       " 'logreg.py',\n",
       " 'London_postal_codes.csv',\n",
       " 'Master Case Study-2.pdf',\n",
       " 'mayank rawat (1).jpg',\n",
       " 'MAYANK RAWAT.jpeg',\n",
       " 'mayank rawat.jpg',\n",
       " 'mysql-installer-community-8.0.29.0.msi',\n",
       " 'Mytable.xlsx',\n",
       " 'NAV_Landing_Tbl.sql',\n",
       " 'Notes25(AutoRecovered).xlsx',\n",
       " 'Notes251(AutoRecovered).xlsx',\n",
       " 'Orders.csv',\n",
       " 'Pandas-Cookbook-master.zip',\n",
       " 'pga25',\n",
       " 'png2jpg.zip',\n",
       " 'political 6',\n",
       " 'political 7',\n",
       " 'POS_Q1 (1).csv',\n",
       " 'POS_Q1.csv',\n",
       " 'POS_Q2.csv',\n",
       " 'POS_Q3.csv',\n",
       " 'POS_Q4.csv',\n",
       " 'Python Basics A Self-Teaching Introduction by H. Bhasin (z-lib.org).pdf',\n",
       " 'Python Case Study.pdf',\n",
       " 'python inexercise solution',\n",
       " 'PythonBasics.ipynb',\n",
       " 'q2ans.csv',\n",
       " 'QueryPart.sql',\n",
       " 'RealEstate_California.csv',\n",
       " 'sakshi test 2.ipynb',\n",
       " 'SAKSHI Test statistics.ipynb',\n",
       " 'sakshi test1.sql',\n",
       " 'SAKSHI testtt statistics.ipynb',\n",
       " 'Salesman.csv',\n",
       " 'Scan.pdf',\n",
       " 'September Magazine.pdf',\n",
       " 'sgdregressor.joblib',\n",
       " 'SQL-cheat-sheet.pdf',\n",
       " 'SQL.pdf',\n",
       " 'SQL2019-SSEI-Dev.exe',\n",
       " 'ssss.csv',\n",
       " 'stat assign',\n",
       " 'stat assign soln',\n",
       " 'statistics in plain english (3rd, 2010).pdf',\n",
       " 'Statistics.ipynb',\n",
       " 'Stats_question',\n",
       " 'Stats_question.zip',\n",
       " 'superstore.sql',\n",
       " 'Telegram Desktop',\n",
       " 'train (1).csv',\n",
       " 'train.csv',\n",
       " 'tsetup-x64.4.1.0.exe',\n",
       " 'Untitled.ipynb',\n",
       " 'Untitled1.ipynb',\n",
       " 'Viz.ipynb',\n",
       " 'WhatsApp Image 2022-07-24 at 7.15.15 AM.jpeg',\n",
       " 'WhatsApp Image 2022-11-05 at 1.20.26 AM.jpeg',\n",
       " 'WhatsApp Image 2022-11-18 at 10.23.14 AM.jpeg',\n",
       " 'WhatsAppSetup.exe',\n",
       " 'WhatsApp_Image_2022-08-24_at_5.46.46_AM (3).jpg',\n",
       " 'WhatsApp_SIGN_2022-08-24_at_5.47.14_AM.jpg',\n",
       " 'winrar-x64-611.exe',\n",
       " 'yellow_tripdata_2022-06.parquet',\n",
       " 'Zoom_cm_ds_m65W9FRvW9LVOntTsI3hsKWrlLc70RvOnFRbD@0j0fke8vPdOgC8wS_kb8ca81cec45e528f_.exe']"
      ]
     },
     "execution_count": 90,
     "metadata": {},
     "output_type": "execute_result"
    }
   ],
   "source": [
    "os.listdir()"
   ]
  },
  {
   "cell_type": "code",
   "execution_count": 91,
   "id": "b41d41b9",
   "metadata": {},
   "outputs": [],
   "source": [
    "bank=pd.read_excel(\"bank.xlsx\")"
   ]
  },
  {
   "cell_type": "code",
   "execution_count": 92,
   "id": "d8832b70",
   "metadata": {},
   "outputs": [
    {
     "data": {
      "text/html": [
       "<div>\n",
       "<style scoped>\n",
       "    .dataframe tbody tr th:only-of-type {\n",
       "        vertical-align: middle;\n",
       "    }\n",
       "\n",
       "    .dataframe tbody tr th {\n",
       "        vertical-align: top;\n",
       "    }\n",
       "\n",
       "    .dataframe thead th {\n",
       "        text-align: right;\n",
       "    }\n",
       "</style>\n",
       "<table border=\"1\" class=\"dataframe\">\n",
       "  <thead>\n",
       "    <tr style=\"text-align: right;\">\n",
       "      <th></th>\n",
       "      <th>age</th>\n",
       "      <th>job</th>\n",
       "      <th>marital</th>\n",
       "      <th>education</th>\n",
       "      <th>default</th>\n",
       "      <th>balance</th>\n",
       "      <th>housing</th>\n",
       "      <th>loan</th>\n",
       "      <th>contact</th>\n",
       "      <th>day</th>\n",
       "      <th>month</th>\n",
       "      <th>duration</th>\n",
       "      <th>campaign</th>\n",
       "      <th>pdays</th>\n",
       "      <th>previous</th>\n",
       "      <th>poutcome</th>\n",
       "      <th>deposit</th>\n",
       "    </tr>\n",
       "  </thead>\n",
       "  <tbody>\n",
       "    <tr>\n",
       "      <th>0</th>\n",
       "      <td>59</td>\n",
       "      <td>admin.</td>\n",
       "      <td>married</td>\n",
       "      <td>secondary</td>\n",
       "      <td>no</td>\n",
       "      <td>2343</td>\n",
       "      <td>yes</td>\n",
       "      <td>no</td>\n",
       "      <td>unknown</td>\n",
       "      <td>5</td>\n",
       "      <td>may</td>\n",
       "      <td>1042</td>\n",
       "      <td>1</td>\n",
       "      <td>-1</td>\n",
       "      <td>0</td>\n",
       "      <td>unknown</td>\n",
       "      <td>yes</td>\n",
       "    </tr>\n",
       "    <tr>\n",
       "      <th>1</th>\n",
       "      <td>56</td>\n",
       "      <td>admin.</td>\n",
       "      <td>married</td>\n",
       "      <td>secondary</td>\n",
       "      <td>no</td>\n",
       "      <td>45</td>\n",
       "      <td>no</td>\n",
       "      <td>no</td>\n",
       "      <td>unknown</td>\n",
       "      <td>5</td>\n",
       "      <td>may</td>\n",
       "      <td>1467</td>\n",
       "      <td>1</td>\n",
       "      <td>-1</td>\n",
       "      <td>0</td>\n",
       "      <td>unknown</td>\n",
       "      <td>yes</td>\n",
       "    </tr>\n",
       "    <tr>\n",
       "      <th>2</th>\n",
       "      <td>41</td>\n",
       "      <td>technician</td>\n",
       "      <td>married</td>\n",
       "      <td>secondary</td>\n",
       "      <td>no</td>\n",
       "      <td>1270</td>\n",
       "      <td>yes</td>\n",
       "      <td>no</td>\n",
       "      <td>unknown</td>\n",
       "      <td>5</td>\n",
       "      <td>may</td>\n",
       "      <td>1389</td>\n",
       "      <td>1</td>\n",
       "      <td>-1</td>\n",
       "      <td>0</td>\n",
       "      <td>unknown</td>\n",
       "      <td>yes</td>\n",
       "    </tr>\n",
       "    <tr>\n",
       "      <th>3</th>\n",
       "      <td>55</td>\n",
       "      <td>services</td>\n",
       "      <td>married</td>\n",
       "      <td>secondary</td>\n",
       "      <td>no</td>\n",
       "      <td>2476</td>\n",
       "      <td>yes</td>\n",
       "      <td>no</td>\n",
       "      <td>unknown</td>\n",
       "      <td>5</td>\n",
       "      <td>may</td>\n",
       "      <td>579</td>\n",
       "      <td>1</td>\n",
       "      <td>-1</td>\n",
       "      <td>0</td>\n",
       "      <td>unknown</td>\n",
       "      <td>yes</td>\n",
       "    </tr>\n",
       "    <tr>\n",
       "      <th>4</th>\n",
       "      <td>54</td>\n",
       "      <td>admin.</td>\n",
       "      <td>married</td>\n",
       "      <td>tertiary</td>\n",
       "      <td>no</td>\n",
       "      <td>184</td>\n",
       "      <td>no</td>\n",
       "      <td>no</td>\n",
       "      <td>unknown</td>\n",
       "      <td>5</td>\n",
       "      <td>may</td>\n",
       "      <td>673</td>\n",
       "      <td>2</td>\n",
       "      <td>-1</td>\n",
       "      <td>0</td>\n",
       "      <td>unknown</td>\n",
       "      <td>yes</td>\n",
       "    </tr>\n",
       "    <tr>\n",
       "      <th>...</th>\n",
       "      <td>...</td>\n",
       "      <td>...</td>\n",
       "      <td>...</td>\n",
       "      <td>...</td>\n",
       "      <td>...</td>\n",
       "      <td>...</td>\n",
       "      <td>...</td>\n",
       "      <td>...</td>\n",
       "      <td>...</td>\n",
       "      <td>...</td>\n",
       "      <td>...</td>\n",
       "      <td>...</td>\n",
       "      <td>...</td>\n",
       "      <td>...</td>\n",
       "      <td>...</td>\n",
       "      <td>...</td>\n",
       "      <td>...</td>\n",
       "    </tr>\n",
       "    <tr>\n",
       "      <th>11157</th>\n",
       "      <td>33</td>\n",
       "      <td>blue-collar</td>\n",
       "      <td>single</td>\n",
       "      <td>primary</td>\n",
       "      <td>no</td>\n",
       "      <td>1</td>\n",
       "      <td>yes</td>\n",
       "      <td>no</td>\n",
       "      <td>cellular</td>\n",
       "      <td>20</td>\n",
       "      <td>apr</td>\n",
       "      <td>257</td>\n",
       "      <td>1</td>\n",
       "      <td>-1</td>\n",
       "      <td>0</td>\n",
       "      <td>unknown</td>\n",
       "      <td>no</td>\n",
       "    </tr>\n",
       "    <tr>\n",
       "      <th>11158</th>\n",
       "      <td>39</td>\n",
       "      <td>services</td>\n",
       "      <td>married</td>\n",
       "      <td>secondary</td>\n",
       "      <td>no</td>\n",
       "      <td>733</td>\n",
       "      <td>no</td>\n",
       "      <td>no</td>\n",
       "      <td>unknown</td>\n",
       "      <td>16</td>\n",
       "      <td>jun</td>\n",
       "      <td>83</td>\n",
       "      <td>4</td>\n",
       "      <td>-1</td>\n",
       "      <td>0</td>\n",
       "      <td>unknown</td>\n",
       "      <td>no</td>\n",
       "    </tr>\n",
       "    <tr>\n",
       "      <th>11159</th>\n",
       "      <td>32</td>\n",
       "      <td>technician</td>\n",
       "      <td>single</td>\n",
       "      <td>secondary</td>\n",
       "      <td>no</td>\n",
       "      <td>29</td>\n",
       "      <td>no</td>\n",
       "      <td>no</td>\n",
       "      <td>cellular</td>\n",
       "      <td>19</td>\n",
       "      <td>aug</td>\n",
       "      <td>156</td>\n",
       "      <td>2</td>\n",
       "      <td>-1</td>\n",
       "      <td>0</td>\n",
       "      <td>unknown</td>\n",
       "      <td>no</td>\n",
       "    </tr>\n",
       "    <tr>\n",
       "      <th>11160</th>\n",
       "      <td>43</td>\n",
       "      <td>technician</td>\n",
       "      <td>married</td>\n",
       "      <td>secondary</td>\n",
       "      <td>no</td>\n",
       "      <td>0</td>\n",
       "      <td>no</td>\n",
       "      <td>yes</td>\n",
       "      <td>cellular</td>\n",
       "      <td>8</td>\n",
       "      <td>may</td>\n",
       "      <td>9</td>\n",
       "      <td>2</td>\n",
       "      <td>172</td>\n",
       "      <td>5</td>\n",
       "      <td>failure</td>\n",
       "      <td>no</td>\n",
       "    </tr>\n",
       "    <tr>\n",
       "      <th>11161</th>\n",
       "      <td>34</td>\n",
       "      <td>technician</td>\n",
       "      <td>married</td>\n",
       "      <td>secondary</td>\n",
       "      <td>no</td>\n",
       "      <td>0</td>\n",
       "      <td>no</td>\n",
       "      <td>no</td>\n",
       "      <td>cellular</td>\n",
       "      <td>9</td>\n",
       "      <td>jul</td>\n",
       "      <td>628</td>\n",
       "      <td>1</td>\n",
       "      <td>-1</td>\n",
       "      <td>0</td>\n",
       "      <td>unknown</td>\n",
       "      <td>no</td>\n",
       "    </tr>\n",
       "  </tbody>\n",
       "</table>\n",
       "<p>11162 rows × 17 columns</p>\n",
       "</div>"
      ],
      "text/plain": [
       "       age          job  marital  education default  balance housing loan  \\\n",
       "0       59       admin.  married  secondary      no     2343     yes   no   \n",
       "1       56       admin.  married  secondary      no       45      no   no   \n",
       "2       41   technician  married  secondary      no     1270     yes   no   \n",
       "3       55     services  married  secondary      no     2476     yes   no   \n",
       "4       54       admin.  married   tertiary      no      184      no   no   \n",
       "...    ...          ...      ...        ...     ...      ...     ...  ...   \n",
       "11157   33  blue-collar   single    primary      no        1     yes   no   \n",
       "11158   39     services  married  secondary      no      733      no   no   \n",
       "11159   32   technician   single  secondary      no       29      no   no   \n",
       "11160   43   technician  married  secondary      no        0      no  yes   \n",
       "11161   34   technician  married  secondary      no        0      no   no   \n",
       "\n",
       "        contact  day month  duration  campaign  pdays  previous poutcome  \\\n",
       "0       unknown    5   may      1042         1     -1         0  unknown   \n",
       "1       unknown    5   may      1467         1     -1         0  unknown   \n",
       "2       unknown    5   may      1389         1     -1         0  unknown   \n",
       "3       unknown    5   may       579         1     -1         0  unknown   \n",
       "4       unknown    5   may       673         2     -1         0  unknown   \n",
       "...         ...  ...   ...       ...       ...    ...       ...      ...   \n",
       "11157  cellular   20   apr       257         1     -1         0  unknown   \n",
       "11158   unknown   16   jun        83         4     -1         0  unknown   \n",
       "11159  cellular   19   aug       156         2     -1         0  unknown   \n",
       "11160  cellular    8   may         9         2    172         5  failure   \n",
       "11161  cellular    9   jul       628         1     -1         0  unknown   \n",
       "\n",
       "      deposit  \n",
       "0         yes  \n",
       "1         yes  \n",
       "2         yes  \n",
       "3         yes  \n",
       "4         yes  \n",
       "...       ...  \n",
       "11157      no  \n",
       "11158      no  \n",
       "11159      no  \n",
       "11160      no  \n",
       "11161      no  \n",
       "\n",
       "[11162 rows x 17 columns]"
      ]
     },
     "execution_count": 92,
     "metadata": {},
     "output_type": "execute_result"
    }
   ],
   "source": [
    "bank"
   ]
  },
  {
   "cell_type": "code",
   "execution_count": 93,
   "id": "9ae55fba",
   "metadata": {},
   "outputs": [
    {
     "name": "stdout",
     "output_type": "stream",
     "text": [
      "<class 'pandas.core.frame.DataFrame'>\n",
      "RangeIndex: 11162 entries, 0 to 11161\n",
      "Data columns (total 17 columns):\n",
      " #   Column     Non-Null Count  Dtype \n",
      "---  ------     --------------  ----- \n",
      " 0   age        11162 non-null  int64 \n",
      " 1   job        11162 non-null  object\n",
      " 2   marital    11162 non-null  object\n",
      " 3   education  11162 non-null  object\n",
      " 4   default    11162 non-null  object\n",
      " 5   balance    11162 non-null  int64 \n",
      " 6   housing    11162 non-null  object\n",
      " 7   loan       11162 non-null  object\n",
      " 8   contact    11162 non-null  object\n",
      " 9   day        11162 non-null  int64 \n",
      " 10  month      11162 non-null  object\n",
      " 11  duration   11162 non-null  int64 \n",
      " 12  campaign   11162 non-null  int64 \n",
      " 13  pdays      11162 non-null  int64 \n",
      " 14  previous   11162 non-null  int64 \n",
      " 15  poutcome   11162 non-null  object\n",
      " 16  deposit    11162 non-null  object\n",
      "dtypes: int64(7), object(10)\n",
      "memory usage: 1.4+ MB\n"
     ]
    }
   ],
   "source": [
    "bank.info()"
   ]
  },
  {
   "cell_type": "markdown",
   "id": "74b32169",
   "metadata": {},
   "source": [
    "## univariate analysis"
   ]
  },
  {
   "cell_type": "code",
   "execution_count": 94,
   "id": "dde6e0e3",
   "metadata": {},
   "outputs": [],
   "source": [
    "def univariate_cat(data, x):\n",
    "    missing=data[x].isnull().sum()\n",
    "    unique_cnt=data[x].nunique()\n",
    "    unique_cat=list(data[x].unique())\n",
    "    \n",
    "    f1=pd.DataFrame(data[x].value_counts())\n",
    "    f1.rename(columns={x:\"Count\"}, inplace=True)\n",
    "    f2=pd.DataFrame(data[x].value_counts(normalize=True))\n",
    "    f2.rename(columns={x:\"percentage\"}, inplace=True)\n",
    "    f2[\"percentage\"]=(f2[\"percentage\"]*100).round(2).astype(str)+\"%\"\n",
    "    ff=pd.concat([f1,f2],axis=1)\n",
    "    \n",
    "    print(f\"Total missing values : {missing}\\n\")\n",
    "    print(f\"Total count of unique categories: {unique_cnt}\\n\")\n",
    "    print(f\"Unique categories :\\n{unique_cat}\")\n",
    "    print(f\"value count and %\\n\",ff)\n",
    "    sns.countplot(data=data,x=x)\n",
    "    plt.show()"
   ]
  },
  {
   "cell_type": "code",
   "execution_count": 95,
   "id": "33ff51bf",
   "metadata": {},
   "outputs": [
    {
     "data": {
      "text/plain": [
       "Index(['job', 'marital', 'education', 'default', 'housing', 'loan', 'contact',\n",
       "       'month', 'poutcome', 'deposit'],\n",
       "      dtype='object')"
      ]
     },
     "execution_count": 95,
     "metadata": {},
     "output_type": "execute_result"
    }
   ],
   "source": [
    "bank.dtypes[bank.dtypes==\"object\"].index"
   ]
  },
  {
   "cell_type": "code",
   "execution_count": 96,
   "id": "876ed1ac",
   "metadata": {},
   "outputs": [
    {
     "name": "stdout",
     "output_type": "stream",
     "text": [
      "Total missing values : 0\n",
      "\n",
      "Total count of unique categories: 12\n",
      "\n",
      "Unique categories :\n",
      "['admin.', 'technician', 'services', 'management', 'retired', 'blue-collar', 'unemployed', 'entrepreneur', 'housemaid', 'unknown', 'self-employed', 'student']\n",
      "value count and %\n",
      "                Count percentage\n",
      "management      2566     22.99%\n",
      "blue-collar     1944     17.42%\n",
      "technician      1823     16.33%\n",
      "admin.          1334     11.95%\n",
      "services         923      8.27%\n",
      "retired          778      6.97%\n",
      "self-employed    405      3.63%\n",
      "student          360      3.23%\n",
      "unemployed       357       3.2%\n",
      "entrepreneur     328      2.94%\n",
      "housemaid        274      2.45%\n",
      "unknown           70      0.63%\n"
     ]
    },
    {
     "data": {
      "image/png": "[encoded data removed]",
      "text/plain": [
       "<Figure size 432x288 with 1 Axes>"
      ]
     },
     "metadata": {
      "needs_background": "light"
     },
     "output_type": "display_data"
    }
   ],
   "source": [
    "univariate_cat(data=bank, x=\"job\")"
   ]
  },
  {
   "cell_type": "code",
   "execution_count": 97,
   "id": "53658490",
   "metadata": {},
   "outputs": [],
   "source": [
    "bank[\"job\"]=bank[\"job\"].replace([\"management\",\"admin.\"],\"white-collar\")\n",
    "bank[\"job\"]=bank[\"job\"].replace([\"services\",\"housemaid\"],\"pink-collar\")\n",
    "bank[\"job\"]=bank[\"job\"].replace([\"retired\",\"student\",\"unemployed\",\"unknown\"],\"others\")\n",
    "bank[\"job\"]=bank[\"job\"].replace([\"self-employed\",\"entrepreneur\"],\"self-depend\")"
   ]
  },
  {
   "cell_type": "code",
   "execution_count": 98,
   "id": "d50d45e3",
   "metadata": {},
   "outputs": [
    {
     "name": "stdout",
     "output_type": "stream",
     "text": [
      "Total missing values : 0\n",
      "\n",
      "Total count of unique categories: 6\n",
      "\n",
      "Unique categories :\n",
      "['white-collar', 'technician', 'pink-collar', 'others', 'blue-collar', 'self-depend']\n",
      "value count and %\n",
      "               Count percentage\n",
      "white-collar   3900     34.94%\n",
      "blue-collar    1944     17.42%\n",
      "technician     1823     16.33%\n",
      "others         1565     14.02%\n",
      "pink-collar    1197     10.72%\n",
      "self-depend     733      6.57%\n"
     ]
    },
    {
     "data": {
      "image/png": "[encoded data removed]",
      "text/plain": [
       "<Figure size 432x288 with 1 Axes>"
      ]
     },
     "metadata": {
      "needs_background": "light"
     },
     "output_type": "display_data"
    }
   ],
   "source": [
    "univariate_cat(data=bank,x=\"job\")"
   ]
  },
  {
   "cell_type": "code",
   "execution_count": 99,
   "id": "cca8860e",
   "metadata": {},
   "outputs": [
    {
     "name": "stdout",
     "output_type": "stream",
     "text": [
      "Total missing values : 0\n",
      "\n",
      "Total count of unique categories: 3\n",
      "\n",
      "Unique categories :\n",
      "['married', 'single', 'divorced']\n",
      "value count and %\n",
      "           Count percentage\n",
      "married    6351      56.9%\n",
      "single     3518     31.52%\n",
      "divorced   1293     11.58%\n"
     ]
    },
    {
     "data": {
      "image/png": "[encoded data removed]",
      "text/plain": [
       "<Figure size 432x288 with 1 Axes>"
      ]
     },
     "metadata": {
      "needs_background": "light"
     },
     "output_type": "display_data"
    }
   ],
   "source": [
    "univariate_cat(data=bank,x=\"marital\")"
   ]
  },
  {
   "cell_type": "code",
   "execution_count": 100,
   "id": "8ad34dd2",
   "metadata": {},
   "outputs": [
    {
     "name": "stdout",
     "output_type": "stream",
     "text": [
      "Total missing values : 0\n",
      "\n",
      "Total count of unique categories: 4\n",
      "\n",
      "Unique categories :\n",
      "['secondary', 'tertiary', 'primary', 'unknown']\n",
      "value count and %\n",
      "            Count percentage\n",
      "secondary   5476     49.06%\n",
      "tertiary    3689     33.05%\n",
      "primary     1500     13.44%\n",
      "unknown      497      4.45%\n"
     ]
    },
    {
     "data": {
      "image/png": "[encoded data removed]",
      "text/plain": [
       "<Figure size 432x288 with 1 Axes>"
      ]
     },
     "metadata": {
      "needs_background": "light"
     },
     "output_type": "display_data"
    }
   ],
   "source": [
    "univariate_cat(data=bank,x=\"education\")"
   ]
  },
  {
   "cell_type": "code",
   "execution_count": 101,
   "id": "0f991b73",
   "metadata": {},
   "outputs": [
    {
     "name": "stdout",
     "output_type": "stream",
     "text": [
      "Total missing values : 0\n",
      "\n",
      "Total count of unique categories: 2\n",
      "\n",
      "Unique categories :\n",
      "['no', 'yes']\n",
      "value count and %\n",
      "      Count percentage\n",
      "no   10994     98.49%\n",
      "yes    168      1.51%\n"
     ]
    },
    {
     "data": {
      "image/png": "[encoded data removed]",
      "text/plain": [
       "<Figure size 432x288 with 1 Axes>"
      ]
     },
     "metadata": {
      "needs_background": "light"
     },
     "output_type": "display_data"
    }
   ],
   "source": [
    "# ''default', 'housing', 'loan', 'contact',\n",
    "#        'month', 'poutcome', 'deposit'', 'housing', 'loan', 'contact',\n",
    "#        'month', 'poutcome', 'deposit'\n",
    "univariate_cat(data=bank,x=\"default\")"
   ]
  },
  {
   "cell_type": "code",
   "execution_count": 102,
   "id": "d85bd56f",
   "metadata": {},
   "outputs": [
    {
     "name": "stdout",
     "output_type": "stream",
     "text": [
      "Total missing values : 0\n",
      "\n",
      "Total count of unique categories: 2\n",
      "\n",
      "Unique categories :\n",
      "['yes', 'no']\n",
      "value count and %\n",
      "      Count percentage\n",
      "no    5881     52.69%\n",
      "yes   5281     47.31%\n"
     ]
    },
    {
     "data": {
      "image/png": "[encoded data removed]",
      "text/plain": [
       "<Figure size 432x288 with 1 Axes>"
      ]
     },
     "metadata": {
      "needs_background": "light"
     },
     "output_type": "display_data"
    }
   ],
   "source": [
    "univariate_cat(data=bank,x=\"housing\")"
   ]
  },
  {
   "cell_type": "code",
   "execution_count": 103,
   "id": "d753f1d1",
   "metadata": {},
   "outputs": [
    {
     "name": "stdout",
     "output_type": "stream",
     "text": [
      "Total missing values : 0\n",
      "\n",
      "Total count of unique categories: 2\n",
      "\n",
      "Unique categories :\n",
      "['no', 'yes']\n",
      "value count and %\n",
      "      Count percentage\n",
      "no    9702     86.92%\n",
      "yes   1460     13.08%\n"
     ]
    },
    {
     "data": {
      "image/png": "[encoded data removed]",
      "text/plain": [
       "<Figure size 432x288 with 1 Axes>"
      ]
     },
     "metadata": {
      "needs_background": "light"
     },
     "output_type": "display_data"
    }
   ],
   "source": [
    "# ,  'loan', 'contact','month', 'poutcome', 'deposit'',  'contact',\n",
    "#        \n",
    "univariate_cat(data=bank,x=\"loan\")"
   ]
  },
  {
   "cell_type": "code",
   "execution_count": 104,
   "id": "77aca2a2",
   "metadata": {},
   "outputs": [
    {
     "name": "stdout",
     "output_type": "stream",
     "text": [
      "Total missing values : 0\n",
      "\n",
      "Total count of unique categories: 3\n",
      "\n",
      "Unique categories :\n",
      "['unknown', 'cellular', 'telephone']\n",
      "value count and %\n",
      "            Count percentage\n",
      "cellular    8042     72.05%\n",
      "unknown     2346     21.02%\n",
      "telephone    774      6.93%\n"
     ]
    },
    {
     "data": {
      "image/png": "[encoded data removed]",
      "text/plain": [
       "<Figure size 432x288 with 1 Axes>"
      ]
     },
     "metadata": {
      "needs_background": "light"
     },
     "output_type": "display_data"
    }
   ],
   "source": [
    "# ,  'month', 'poutcome', 'deposit'',  'contact',\n",
    "#        \n",
    "univariate_cat(data=bank,x=\"contact\")"
   ]
  },
  {
   "cell_type": "code",
   "execution_count": 105,
   "id": "ae00322a",
   "metadata": {},
   "outputs": [
    {
     "data": {
      "text/html": [
       "<div>\n",
       "<style scoped>\n",
       "    .dataframe tbody tr th:only-of-type {\n",
       "        vertical-align: middle;\n",
       "    }\n",
       "\n",
       "    .dataframe tbody tr th {\n",
       "        vertical-align: top;\n",
       "    }\n",
       "\n",
       "    .dataframe thead th {\n",
       "        text-align: right;\n",
       "    }\n",
       "</style>\n",
       "<table border=\"1\" class=\"dataframe\">\n",
       "  <thead>\n",
       "    <tr style=\"text-align: right;\">\n",
       "      <th></th>\n",
       "      <th>age</th>\n",
       "      <th>job</th>\n",
       "      <th>marital</th>\n",
       "      <th>education</th>\n",
       "      <th>default</th>\n",
       "      <th>balance</th>\n",
       "      <th>housing</th>\n",
       "      <th>loan</th>\n",
       "      <th>contact</th>\n",
       "      <th>day</th>\n",
       "      <th>month</th>\n",
       "      <th>duration</th>\n",
       "      <th>campaign</th>\n",
       "      <th>pdays</th>\n",
       "      <th>previous</th>\n",
       "      <th>poutcome</th>\n",
       "      <th>deposit</th>\n",
       "    </tr>\n",
       "  </thead>\n",
       "  <tbody>\n",
       "    <tr>\n",
       "      <th>0</th>\n",
       "      <td>59</td>\n",
       "      <td>white-collar</td>\n",
       "      <td>married</td>\n",
       "      <td>secondary</td>\n",
       "      <td>no</td>\n",
       "      <td>2343</td>\n",
       "      <td>yes</td>\n",
       "      <td>no</td>\n",
       "      <td>unknown</td>\n",
       "      <td>5</td>\n",
       "      <td>may</td>\n",
       "      <td>1042</td>\n",
       "      <td>1</td>\n",
       "      <td>-1</td>\n",
       "      <td>0</td>\n",
       "      <td>unknown</td>\n",
       "      <td>yes</td>\n",
       "    </tr>\n",
       "    <tr>\n",
       "      <th>1</th>\n",
       "      <td>56</td>\n",
       "      <td>white-collar</td>\n",
       "      <td>married</td>\n",
       "      <td>secondary</td>\n",
       "      <td>no</td>\n",
       "      <td>45</td>\n",
       "      <td>no</td>\n",
       "      <td>no</td>\n",
       "      <td>unknown</td>\n",
       "      <td>5</td>\n",
       "      <td>may</td>\n",
       "      <td>1467</td>\n",
       "      <td>1</td>\n",
       "      <td>-1</td>\n",
       "      <td>0</td>\n",
       "      <td>unknown</td>\n",
       "      <td>yes</td>\n",
       "    </tr>\n",
       "    <tr>\n",
       "      <th>2</th>\n",
       "      <td>41</td>\n",
       "      <td>technician</td>\n",
       "      <td>married</td>\n",
       "      <td>secondary</td>\n",
       "      <td>no</td>\n",
       "      <td>1270</td>\n",
       "      <td>yes</td>\n",
       "      <td>no</td>\n",
       "      <td>unknown</td>\n",
       "      <td>5</td>\n",
       "      <td>may</td>\n",
       "      <td>1389</td>\n",
       "      <td>1</td>\n",
       "      <td>-1</td>\n",
       "      <td>0</td>\n",
       "      <td>unknown</td>\n",
       "      <td>yes</td>\n",
       "    </tr>\n",
       "    <tr>\n",
       "      <th>3</th>\n",
       "      <td>55</td>\n",
       "      <td>pink-collar</td>\n",
       "      <td>married</td>\n",
       "      <td>secondary</td>\n",
       "      <td>no</td>\n",
       "      <td>2476</td>\n",
       "      <td>yes</td>\n",
       "      <td>no</td>\n",
       "      <td>unknown</td>\n",
       "      <td>5</td>\n",
       "      <td>may</td>\n",
       "      <td>579</td>\n",
       "      <td>1</td>\n",
       "      <td>-1</td>\n",
       "      <td>0</td>\n",
       "      <td>unknown</td>\n",
       "      <td>yes</td>\n",
       "    </tr>\n",
       "    <tr>\n",
       "      <th>4</th>\n",
       "      <td>54</td>\n",
       "      <td>white-collar</td>\n",
       "      <td>married</td>\n",
       "      <td>tertiary</td>\n",
       "      <td>no</td>\n",
       "      <td>184</td>\n",
       "      <td>no</td>\n",
       "      <td>no</td>\n",
       "      <td>unknown</td>\n",
       "      <td>5</td>\n",
       "      <td>may</td>\n",
       "      <td>673</td>\n",
       "      <td>2</td>\n",
       "      <td>-1</td>\n",
       "      <td>0</td>\n",
       "      <td>unknown</td>\n",
       "      <td>yes</td>\n",
       "    </tr>\n",
       "    <tr>\n",
       "      <th>...</th>\n",
       "      <td>...</td>\n",
       "      <td>...</td>\n",
       "      <td>...</td>\n",
       "      <td>...</td>\n",
       "      <td>...</td>\n",
       "      <td>...</td>\n",
       "      <td>...</td>\n",
       "      <td>...</td>\n",
       "      <td>...</td>\n",
       "      <td>...</td>\n",
       "      <td>...</td>\n",
       "      <td>...</td>\n",
       "      <td>...</td>\n",
       "      <td>...</td>\n",
       "      <td>...</td>\n",
       "      <td>...</td>\n",
       "      <td>...</td>\n",
       "    </tr>\n",
       "    <tr>\n",
       "      <th>11140</th>\n",
       "      <td>55</td>\n",
       "      <td>pink-collar</td>\n",
       "      <td>divorced</td>\n",
       "      <td>secondary</td>\n",
       "      <td>no</td>\n",
       "      <td>2166</td>\n",
       "      <td>yes</td>\n",
       "      <td>no</td>\n",
       "      <td>unknown</td>\n",
       "      <td>28</td>\n",
       "      <td>may</td>\n",
       "      <td>23</td>\n",
       "      <td>17</td>\n",
       "      <td>-1</td>\n",
       "      <td>0</td>\n",
       "      <td>unknown</td>\n",
       "      <td>no</td>\n",
       "    </tr>\n",
       "    <tr>\n",
       "      <th>11144</th>\n",
       "      <td>60</td>\n",
       "      <td>others</td>\n",
       "      <td>married</td>\n",
       "      <td>secondary</td>\n",
       "      <td>no</td>\n",
       "      <td>0</td>\n",
       "      <td>yes</td>\n",
       "      <td>no</td>\n",
       "      <td>unknown</td>\n",
       "      <td>15</td>\n",
       "      <td>may</td>\n",
       "      <td>229</td>\n",
       "      <td>1</td>\n",
       "      <td>-1</td>\n",
       "      <td>0</td>\n",
       "      <td>unknown</td>\n",
       "      <td>no</td>\n",
       "    </tr>\n",
       "    <tr>\n",
       "      <th>11148</th>\n",
       "      <td>32</td>\n",
       "      <td>blue-collar</td>\n",
       "      <td>married</td>\n",
       "      <td>secondary</td>\n",
       "      <td>no</td>\n",
       "      <td>1</td>\n",
       "      <td>yes</td>\n",
       "      <td>no</td>\n",
       "      <td>unknown</td>\n",
       "      <td>8</td>\n",
       "      <td>may</td>\n",
       "      <td>102</td>\n",
       "      <td>1</td>\n",
       "      <td>-1</td>\n",
       "      <td>0</td>\n",
       "      <td>unknown</td>\n",
       "      <td>no</td>\n",
       "    </tr>\n",
       "    <tr>\n",
       "      <th>11151</th>\n",
       "      <td>40</td>\n",
       "      <td>white-collar</td>\n",
       "      <td>married</td>\n",
       "      <td>tertiary</td>\n",
       "      <td>no</td>\n",
       "      <td>917</td>\n",
       "      <td>yes</td>\n",
       "      <td>no</td>\n",
       "      <td>unknown</td>\n",
       "      <td>20</td>\n",
       "      <td>may</td>\n",
       "      <td>292</td>\n",
       "      <td>1</td>\n",
       "      <td>-1</td>\n",
       "      <td>0</td>\n",
       "      <td>unknown</td>\n",
       "      <td>no</td>\n",
       "    </tr>\n",
       "    <tr>\n",
       "      <th>11158</th>\n",
       "      <td>39</td>\n",
       "      <td>pink-collar</td>\n",
       "      <td>married</td>\n",
       "      <td>secondary</td>\n",
       "      <td>no</td>\n",
       "      <td>733</td>\n",
       "      <td>no</td>\n",
       "      <td>no</td>\n",
       "      <td>unknown</td>\n",
       "      <td>16</td>\n",
       "      <td>jun</td>\n",
       "      <td>83</td>\n",
       "      <td>4</td>\n",
       "      <td>-1</td>\n",
       "      <td>0</td>\n",
       "      <td>unknown</td>\n",
       "      <td>no</td>\n",
       "    </tr>\n",
       "  </tbody>\n",
       "</table>\n",
       "<p>2346 rows × 17 columns</p>\n",
       "</div>"
      ],
      "text/plain": [
       "       age           job   marital  education default  balance housing loan  \\\n",
       "0       59  white-collar   married  secondary      no     2343     yes   no   \n",
       "1       56  white-collar   married  secondary      no       45      no   no   \n",
       "2       41    technician   married  secondary      no     1270     yes   no   \n",
       "3       55   pink-collar   married  secondary      no     2476     yes   no   \n",
       "4       54  white-collar   married   tertiary      no      184      no   no   \n",
       "...    ...           ...       ...        ...     ...      ...     ...  ...   \n",
       "11140   55   pink-collar  divorced  secondary      no     2166     yes   no   \n",
       "11144   60        others   married  secondary      no        0     yes   no   \n",
       "11148   32   blue-collar   married  secondary      no        1     yes   no   \n",
       "11151   40  white-collar   married   tertiary      no      917     yes   no   \n",
       "11158   39   pink-collar   married  secondary      no      733      no   no   \n",
       "\n",
       "       contact  day month  duration  campaign  pdays  previous poutcome  \\\n",
       "0      unknown    5   may      1042         1     -1         0  unknown   \n",
       "1      unknown    5   may      1467         1     -1         0  unknown   \n",
       "2      unknown    5   may      1389         1     -1         0  unknown   \n",
       "3      unknown    5   may       579         1     -1         0  unknown   \n",
       "4      unknown    5   may       673         2     -1         0  unknown   \n",
       "...        ...  ...   ...       ...       ...    ...       ...      ...   \n",
       "11140  unknown   28   may        23        17     -1         0  unknown   \n",
       "11144  unknown   15   may       229         1     -1         0  unknown   \n",
       "11148  unknown    8   may       102         1     -1         0  unknown   \n",
       "11151  unknown   20   may       292         1     -1         0  unknown   \n",
       "11158  unknown   16   jun        83         4     -1         0  unknown   \n",
       "\n",
       "      deposit  \n",
       "0         yes  \n",
       "1         yes  \n",
       "2         yes  \n",
       "3         yes  \n",
       "4         yes  \n",
       "...       ...  \n",
       "11140      no  \n",
       "11144      no  \n",
       "11148      no  \n",
       "11151      no  \n",
       "11158      no  \n",
       "\n",
       "[2346 rows x 17 columns]"
      ]
     },
     "execution_count": 105,
     "metadata": {},
     "output_type": "execute_result"
    }
   ],
   "source": [
    "bank[bank[\"contact\"]==\"unknown\"]"
   ]
  },
  {
   "cell_type": "code",
   "execution_count": 106,
   "id": "dedadd9d",
   "metadata": {},
   "outputs": [
    {
     "data": {
      "text/html": [
       "<div>\n",
       "<style scoped>\n",
       "    .dataframe tbody tr th:only-of-type {\n",
       "        vertical-align: middle;\n",
       "    }\n",
       "\n",
       "    .dataframe tbody tr th {\n",
       "        vertical-align: top;\n",
       "    }\n",
       "\n",
       "    .dataframe thead th {\n",
       "        text-align: right;\n",
       "    }\n",
       "</style>\n",
       "<table border=\"1\" class=\"dataframe\">\n",
       "  <thead>\n",
       "    <tr style=\"text-align: right;\">\n",
       "      <th></th>\n",
       "      <th>age</th>\n",
       "      <th>job</th>\n",
       "      <th>marital</th>\n",
       "      <th>education</th>\n",
       "      <th>default</th>\n",
       "      <th>balance</th>\n",
       "      <th>housing</th>\n",
       "      <th>loan</th>\n",
       "      <th>contact</th>\n",
       "      <th>day</th>\n",
       "      <th>month</th>\n",
       "      <th>duration</th>\n",
       "      <th>campaign</th>\n",
       "      <th>pdays</th>\n",
       "      <th>previous</th>\n",
       "      <th>poutcome</th>\n",
       "      <th>deposit</th>\n",
       "    </tr>\n",
       "  </thead>\n",
       "  <tbody>\n",
       "    <tr>\n",
       "      <th>485</th>\n",
       "      <td>31</td>\n",
       "      <td>blue-collar</td>\n",
       "      <td>divorced</td>\n",
       "      <td>secondary</td>\n",
       "      <td>no</td>\n",
       "      <td>-277</td>\n",
       "      <td>yes</td>\n",
       "      <td>no</td>\n",
       "      <td>telephone</td>\n",
       "      <td>17</td>\n",
       "      <td>jul</td>\n",
       "      <td>1008</td>\n",
       "      <td>2</td>\n",
       "      <td>-1</td>\n",
       "      <td>0</td>\n",
       "      <td>unknown</td>\n",
       "      <td>yes</td>\n",
       "    </tr>\n",
       "    <tr>\n",
       "      <th>491</th>\n",
       "      <td>33</td>\n",
       "      <td>white-collar</td>\n",
       "      <td>married</td>\n",
       "      <td>secondary</td>\n",
       "      <td>no</td>\n",
       "      <td>0</td>\n",
       "      <td>yes</td>\n",
       "      <td>no</td>\n",
       "      <td>telephone</td>\n",
       "      <td>17</td>\n",
       "      <td>jul</td>\n",
       "      <td>1448</td>\n",
       "      <td>7</td>\n",
       "      <td>-1</td>\n",
       "      <td>0</td>\n",
       "      <td>unknown</td>\n",
       "      <td>yes</td>\n",
       "    </tr>\n",
       "    <tr>\n",
       "      <th>518</th>\n",
       "      <td>39</td>\n",
       "      <td>white-collar</td>\n",
       "      <td>married</td>\n",
       "      <td>tertiary</td>\n",
       "      <td>no</td>\n",
       "      <td>1423</td>\n",
       "      <td>yes</td>\n",
       "      <td>no</td>\n",
       "      <td>telephone</td>\n",
       "      <td>21</td>\n",
       "      <td>jul</td>\n",
       "      <td>733</td>\n",
       "      <td>3</td>\n",
       "      <td>-1</td>\n",
       "      <td>0</td>\n",
       "      <td>unknown</td>\n",
       "      <td>yes</td>\n",
       "    </tr>\n",
       "    <tr>\n",
       "      <th>522</th>\n",
       "      <td>42</td>\n",
       "      <td>others</td>\n",
       "      <td>married</td>\n",
       "      <td>unknown</td>\n",
       "      <td>no</td>\n",
       "      <td>970</td>\n",
       "      <td>yes</td>\n",
       "      <td>no</td>\n",
       "      <td>telephone</td>\n",
       "      <td>21</td>\n",
       "      <td>jul</td>\n",
       "      <td>691</td>\n",
       "      <td>10</td>\n",
       "      <td>-1</td>\n",
       "      <td>0</td>\n",
       "      <td>unknown</td>\n",
       "      <td>yes</td>\n",
       "    </tr>\n",
       "    <tr>\n",
       "      <th>523</th>\n",
       "      <td>56</td>\n",
       "      <td>pink-collar</td>\n",
       "      <td>married</td>\n",
       "      <td>primary</td>\n",
       "      <td>no</td>\n",
       "      <td>486</td>\n",
       "      <td>no</td>\n",
       "      <td>yes</td>\n",
       "      <td>telephone</td>\n",
       "      <td>21</td>\n",
       "      <td>jul</td>\n",
       "      <td>1877</td>\n",
       "      <td>1</td>\n",
       "      <td>-1</td>\n",
       "      <td>0</td>\n",
       "      <td>unknown</td>\n",
       "      <td>yes</td>\n",
       "    </tr>\n",
       "    <tr>\n",
       "      <th>...</th>\n",
       "      <td>...</td>\n",
       "      <td>...</td>\n",
       "      <td>...</td>\n",
       "      <td>...</td>\n",
       "      <td>...</td>\n",
       "      <td>...</td>\n",
       "      <td>...</td>\n",
       "      <td>...</td>\n",
       "      <td>...</td>\n",
       "      <td>...</td>\n",
       "      <td>...</td>\n",
       "      <td>...</td>\n",
       "      <td>...</td>\n",
       "      <td>...</td>\n",
       "      <td>...</td>\n",
       "      <td>...</td>\n",
       "      <td>...</td>\n",
       "    </tr>\n",
       "    <tr>\n",
       "      <th>11066</th>\n",
       "      <td>28</td>\n",
       "      <td>technician</td>\n",
       "      <td>single</td>\n",
       "      <td>secondary</td>\n",
       "      <td>no</td>\n",
       "      <td>2000</td>\n",
       "      <td>no</td>\n",
       "      <td>no</td>\n",
       "      <td>telephone</td>\n",
       "      <td>3</td>\n",
       "      <td>feb</td>\n",
       "      <td>226</td>\n",
       "      <td>2</td>\n",
       "      <td>-1</td>\n",
       "      <td>0</td>\n",
       "      <td>unknown</td>\n",
       "      <td>no</td>\n",
       "    </tr>\n",
       "    <tr>\n",
       "      <th>11090</th>\n",
       "      <td>34</td>\n",
       "      <td>pink-collar</td>\n",
       "      <td>single</td>\n",
       "      <td>secondary</td>\n",
       "      <td>no</td>\n",
       "      <td>2257</td>\n",
       "      <td>no</td>\n",
       "      <td>yes</td>\n",
       "      <td>telephone</td>\n",
       "      <td>30</td>\n",
       "      <td>jan</td>\n",
       "      <td>568</td>\n",
       "      <td>2</td>\n",
       "      <td>-1</td>\n",
       "      <td>0</td>\n",
       "      <td>unknown</td>\n",
       "      <td>no</td>\n",
       "    </tr>\n",
       "    <tr>\n",
       "      <th>11134</th>\n",
       "      <td>58</td>\n",
       "      <td>self-depend</td>\n",
       "      <td>married</td>\n",
       "      <td>tertiary</td>\n",
       "      <td>no</td>\n",
       "      <td>2596</td>\n",
       "      <td>no</td>\n",
       "      <td>no</td>\n",
       "      <td>telephone</td>\n",
       "      <td>18</td>\n",
       "      <td>nov</td>\n",
       "      <td>15</td>\n",
       "      <td>2</td>\n",
       "      <td>-1</td>\n",
       "      <td>0</td>\n",
       "      <td>unknown</td>\n",
       "      <td>no</td>\n",
       "    </tr>\n",
       "    <tr>\n",
       "      <th>11138</th>\n",
       "      <td>32</td>\n",
       "      <td>technician</td>\n",
       "      <td>married</td>\n",
       "      <td>secondary</td>\n",
       "      <td>no</td>\n",
       "      <td>235</td>\n",
       "      <td>yes</td>\n",
       "      <td>no</td>\n",
       "      <td>telephone</td>\n",
       "      <td>28</td>\n",
       "      <td>aug</td>\n",
       "      <td>688</td>\n",
       "      <td>6</td>\n",
       "      <td>-1</td>\n",
       "      <td>0</td>\n",
       "      <td>unknown</td>\n",
       "      <td>no</td>\n",
       "    </tr>\n",
       "    <tr>\n",
       "      <th>11153</th>\n",
       "      <td>43</td>\n",
       "      <td>white-collar</td>\n",
       "      <td>single</td>\n",
       "      <td>secondary</td>\n",
       "      <td>no</td>\n",
       "      <td>35</td>\n",
       "      <td>no</td>\n",
       "      <td>no</td>\n",
       "      <td>telephone</td>\n",
       "      <td>9</td>\n",
       "      <td>nov</td>\n",
       "      <td>208</td>\n",
       "      <td>1</td>\n",
       "      <td>-1</td>\n",
       "      <td>0</td>\n",
       "      <td>unknown</td>\n",
       "      <td>no</td>\n",
       "    </tr>\n",
       "  </tbody>\n",
       "</table>\n",
       "<p>774 rows × 17 columns</p>\n",
       "</div>"
      ],
      "text/plain": [
       "       age           job   marital  education default  balance housing loan  \\\n",
       "485     31   blue-collar  divorced  secondary      no     -277     yes   no   \n",
       "491     33  white-collar   married  secondary      no        0     yes   no   \n",
       "518     39  white-collar   married   tertiary      no     1423     yes   no   \n",
       "522     42        others   married    unknown      no      970     yes   no   \n",
       "523     56   pink-collar   married    primary      no      486      no  yes   \n",
       "...    ...           ...       ...        ...     ...      ...     ...  ...   \n",
       "11066   28    technician    single  secondary      no     2000      no   no   \n",
       "11090   34   pink-collar    single  secondary      no     2257      no  yes   \n",
       "11134   58   self-depend   married   tertiary      no     2596      no   no   \n",
       "11138   32    technician   married  secondary      no      235     yes   no   \n",
       "11153   43  white-collar    single  secondary      no       35      no   no   \n",
       "\n",
       "         contact  day month  duration  campaign  pdays  previous poutcome  \\\n",
       "485    telephone   17   jul      1008         2     -1         0  unknown   \n",
       "491    telephone   17   jul      1448         7     -1         0  unknown   \n",
       "518    telephone   21   jul       733         3     -1         0  unknown   \n",
       "522    telephone   21   jul       691        10     -1         0  unknown   \n",
       "523    telephone   21   jul      1877         1     -1         0  unknown   \n",
       "...          ...  ...   ...       ...       ...    ...       ...      ...   \n",
       "11066  telephone    3   feb       226         2     -1         0  unknown   \n",
       "11090  telephone   30   jan       568         2     -1         0  unknown   \n",
       "11134  telephone   18   nov        15         2     -1         0  unknown   \n",
       "11138  telephone   28   aug       688         6     -1         0  unknown   \n",
       "11153  telephone    9   nov       208         1     -1         0  unknown   \n",
       "\n",
       "      deposit  \n",
       "485       yes  \n",
       "491       yes  \n",
       "518       yes  \n",
       "522       yes  \n",
       "523       yes  \n",
       "...       ...  \n",
       "11066      no  \n",
       "11090      no  \n",
       "11134      no  \n",
       "11138      no  \n",
       "11153      no  \n",
       "\n",
       "[774 rows x 17 columns]"
      ]
     },
     "execution_count": 106,
     "metadata": {},
     "output_type": "execute_result"
    }
   ],
   "source": [
    "bank[bank[\"contact\"]==\"telephone\"]"
   ]
  },
  {
   "cell_type": "code",
   "execution_count": 107,
   "id": "dec1616a",
   "metadata": {},
   "outputs": [],
   "source": [
    "bank.drop(columns=[\"contact\"],inplace=True)"
   ]
  },
  {
   "cell_type": "code",
   "execution_count": 108,
   "id": "108975ca",
   "metadata": {},
   "outputs": [
    {
     "name": "stdout",
     "output_type": "stream",
     "text": [
      "Total missing values : 0\n",
      "\n",
      "Total count of unique categories: 12\n",
      "\n",
      "Unique categories :\n",
      "['may', 'jun', 'jul', 'aug', 'oct', 'nov', 'dec', 'jan', 'feb', 'mar', 'apr', 'sep']\n",
      "value count and %\n",
      "      Count percentage\n",
      "may   2824      25.3%\n",
      "aug   1519     13.61%\n",
      "jul   1514     13.56%\n",
      "jun   1222     10.95%\n",
      "nov    943      8.45%\n",
      "apr    923      8.27%\n",
      "feb    776      6.95%\n",
      "oct    392      3.51%\n",
      "jan    344      3.08%\n",
      "sep    319      2.86%\n",
      "mar    276      2.47%\n",
      "dec    110      0.99%\n"
     ]
    },
    {
     "data": {
      "image/png": "[encoded data removed]",
      "text/plain": [
       "<Figure size 432x288 with 1 Axes>"
      ]
     },
     "metadata": {
      "needs_background": "light"
     },
     "output_type": "display_data"
    }
   ],
   "source": [
    "# ,   'poutcome', 'deposit'',  'contact',\n",
    "#        \n",
    "univariate_cat(data=bank,x=\"month\")"
   ]
  },
  {
   "cell_type": "code",
   "execution_count": 109,
   "id": "bff04d3e",
   "metadata": {},
   "outputs": [
    {
     "name": "stdout",
     "output_type": "stream",
     "text": [
      "Total missing values : 0\n",
      "\n",
      "Total count of unique categories: 4\n",
      "\n",
      "Unique categories :\n",
      "['unknown', 'other', 'failure', 'success']\n",
      "value count and %\n",
      "          Count percentage\n",
      "unknown   8326     74.59%\n",
      "failure   1228      11.0%\n",
      "success   1071       9.6%\n",
      "other      537      4.81%\n"
     ]
    },
    {
     "data": {
      "image/png": "[encoded data removed]",
      "text/plain": [
       "<Figure size 432x288 with 1 Axes>"
      ]
     },
     "metadata": {
      "needs_background": "light"
     },
     "output_type": "display_data"
    }
   ],
   "source": [
    "# ,   'poutcome', 'deposit'',  'contact',\n",
    "#        \n",
    "univariate_cat(data=bank,x=\"poutcome\")"
   ]
  },
  {
   "cell_type": "code",
   "execution_count": 110,
   "id": "769439f0",
   "metadata": {},
   "outputs": [],
   "source": [
    "bank[\"poutcome\"]=bank[\"poutcome\"].replace([\"unknown\",\"other\"],\"other\")"
   ]
  },
  {
   "cell_type": "code",
   "execution_count": 111,
   "id": "38f34b0a",
   "metadata": {},
   "outputs": [
    {
     "name": "stdout",
     "output_type": "stream",
     "text": [
      "Total missing values : 0\n",
      "\n",
      "Total count of unique categories: 2\n",
      "\n",
      "Unique categories :\n",
      "['yes', 'no']\n",
      "value count and %\n",
      "      Count percentage\n",
      "no    5873     52.62%\n",
      "yes   5289     47.38%\n"
     ]
    },
    {
     "data": {
      "image/png": "[encoded data removed]",
      "text/plain": [
       "<Figure size 432x288 with 1 Axes>"
      ]
     },
     "metadata": {
      "needs_background": "light"
     },
     "output_type": "display_data"
    }
   ],
   "source": [
    "# ,   'poutcome', 'deposit'',  'contact',\n",
    "#        \n",
    "univariate_cat(data=bank,x=\"deposit\")"
   ]
  },
  {
   "cell_type": "code",
   "execution_count": 112,
   "id": "a6e73373",
   "metadata": {},
   "outputs": [],
   "source": [
    "bank[\"deposit\"]=bank[\"deposit\"].map({\"yes\":1, \"no\":0})"
   ]
  },
  {
   "cell_type": "code",
   "execution_count": 113,
   "id": "0b6a633e",
   "metadata": {},
   "outputs": [
    {
     "data": {
      "text/plain": [
       "0    5873\n",
       "1    5289\n",
       "Name: deposit, dtype: int64"
      ]
     },
     "execution_count": 113,
     "metadata": {},
     "output_type": "execute_result"
    }
   ],
   "source": [
    "bank[\"deposit\"].value_counts()"
   ]
  },
  {
   "cell_type": "code",
   "execution_count": 114,
   "id": "3cc78205",
   "metadata": {},
   "outputs": [
    {
     "data": {
      "text/plain": [
       "dtype('int64')"
      ]
     },
     "execution_count": 114,
     "metadata": {},
     "output_type": "execute_result"
    }
   ],
   "source": [
    "bank[\"deposit\"].dtypes"
   ]
  },
  {
   "cell_type": "markdown",
   "id": "e22785e9",
   "metadata": {},
   "source": [
    "## univariate on numericals"
   ]
  },
  {
   "cell_type": "code",
   "execution_count": 115,
   "id": "6d7899fe",
   "metadata": {},
   "outputs": [],
   "source": [
    "\n",
    "def univariate_num(data ,x):\n",
    "    missing=data[x].isnull().sum()\n",
    "    min1=round(data[x].min(), 2)\n",
    "    max1=round(data[x].max(), 2)\n",
    "    mean=round(data[x].mean(), 2)\n",
    "    var=round(data[x].var(), 2)\n",
    "    std=round(data[x].std(),2)\n",
    "    range1=round(max1-min1, 2)\n",
    "    q1=round(data[x].quantile(.25), 2)\n",
    "    q2=round(data[x].quantile(.5),2)\n",
    "    q3=round(data[x].quantile(.75), 2)\n",
    "    skew=round( data[x].skew(), 2)\n",
    "    kurt=round(data[x].kurt(), 2)\n",
    "    myvalue={\"missing\":missing, \"min\":min1, \"max\":max1, \"mean\":mean,\n",
    "             \"var\":var,\"std\":std, \"range\":range1,\"q1\":q1, \"q2\":q2,\"q3\":q3,\n",
    "            \"skewness\":skew, \"kurtosis\":kurt}\n",
    "    sns.histplot(data[x])\n",
    "    plt.show()\n",
    "    sns.boxplot(data=data, y=data[x])\n",
    "    plt.show()\n",
    "    return myvalue"
   ]
  },
  {
   "cell_type": "code",
   "execution_count": 116,
   "id": "d7bfb647",
   "metadata": {},
   "outputs": [
    {
     "data": {
      "text/plain": [
       "Index(['age', 'balance', 'day', 'duration', 'campaign', 'pdays', 'previous',\n",
       "       'deposit'],\n",
       "      dtype='object')"
      ]
     },
     "execution_count": 116,
     "metadata": {},
     "output_type": "execute_result"
    }
   ],
   "source": [
    "bank.dtypes[bank.dtypes!=\"object\"].index"
   ]
  },
  {
   "cell_type": "code",
   "execution_count": 117,
   "id": "81150d27",
   "metadata": {
    "scrolled": true
   },
   "outputs": [
    {
     "data": {
      "image/png": "[encoded data removed]",
      "text/plain": [
       "<Figure size 432x288 with 1 Axes>"
      ]
     },
     "metadata": {
      "needs_background": "light"
     },
     "output_type": "display_data"
    },
    {
     "data": {
      "image/png": "[encoded data removed]",
      "text/plain": [
       "<Figure size 432x288 with 1 Axes>"
      ]
     },
     "metadata": {
      "needs_background": "light"
     },
     "output_type": "display_data"
    },
    {
     "data": {
      "text/plain": [
       "{'missing': 0,\n",
       " 'min': 18,\n",
       " 'max': 95,\n",
       " 'mean': 41.23,\n",
       " 'var': 141.93,\n",
       " 'std': 11.91,\n",
       " 'range': 77,\n",
       " 'q1': 32.0,\n",
       " 'q2': 39.0,\n",
       " 'q3': 49.0,\n",
       " 'skewness': 0.86,\n",
       " 'kurtosis': 0.62}"
      ]
     },
     "execution_count": 117,
     "metadata": {},
     "output_type": "execute_result"
    }
   ],
   "source": [
    "# 'age', 'balance', 'day', 'duration', 'campaign', 'pdays', 'previous', 'deposit'\n",
    "\n",
    "univariate_num(data=bank, x=\"age\")"
   ]
  },
  {
   "cell_type": "code",
   "execution_count": 118,
   "id": "4eaba104",
   "metadata": {},
   "outputs": [
    {
     "data": {
      "image/png": "[encoded data removed]",
      "text/plain": [
       "<Figure size 432x288 with 1 Axes>"
      ]
     },
     "metadata": {
      "needs_background": "light"
     },
     "output_type": "display_data"
    },
    {
     "data": {
      "image/png": "[encoded data removed]",
      "text/plain": [
       "<Figure size 432x288 with 1 Axes>"
      ]
     },
     "metadata": {
      "needs_background": "light"
     },
     "output_type": "display_data"
    },
    {
     "data": {
      "text/plain": [
       "{'missing': 0,\n",
       " 'min': -6847,\n",
       " 'max': 81204,\n",
       " 'mean': 1528.54,\n",
       " 'var': 10403291.12,\n",
       " 'std': 3225.41,\n",
       " 'range': 88051,\n",
       " 'q1': 122.0,\n",
       " 'q2': 550.0,\n",
       " 'q3': 1708.0,\n",
       " 'skewness': 8.22,\n",
       " 'kurtosis': 126.86}"
      ]
     },
     "execution_count": 118,
     "metadata": {},
     "output_type": "execute_result"
    }
   ],
   "source": [
    "# 'balance', 'day', 'duration', 'campaign', 'pdays', 'previous', 'deposit'\n",
    "univariate_num(data=bank, x=\"balance\")"
   ]
  },
  {
   "cell_type": "code",
   "execution_count": 119,
   "id": "2265ca62",
   "metadata": {},
   "outputs": [
    {
     "data": {
      "image/png": "[encoded data removed]",
      "text/plain": [
       "<Figure size 432x288 with 1 Axes>"
      ]
     },
     "metadata": {
      "needs_background": "light"
     },
     "output_type": "display_data"
    },
    {
     "data": {
      "image/png": "[encoded data removed]",
      "text/plain": [
       "<Figure size 432x288 with 1 Axes>"
      ]
     },
     "metadata": {
      "needs_background": "light"
     },
     "output_type": "display_data"
    },
    {
     "data": {
      "text/plain": [
       "{'missing': 0,\n",
       " 'min': 1,\n",
       " 'max': 31,\n",
       " 'mean': 15.66,\n",
       " 'var': 70.91,\n",
       " 'std': 8.42,\n",
       " 'range': 30,\n",
       " 'q1': 8.0,\n",
       " 'q2': 15.0,\n",
       " 'q3': 22.0,\n",
       " 'skewness': 0.11,\n",
       " 'kurtosis': -1.06}"
      ]
     },
     "execution_count": 119,
     "metadata": {},
     "output_type": "execute_result"
    }
   ],
   "source": [
    "# 'balance', 'day', 'duration', 'campaign', 'pdays', 'previous', 'deposit'\n",
    "univariate_num(data=bank, x=\"day\")"
   ]
  },
  {
   "cell_type": "code",
   "execution_count": 120,
   "id": "24e947ee",
   "metadata": {},
   "outputs": [],
   "source": [
    "bank.drop(columns=[\"day\"],inplace=True)"
   ]
  },
  {
   "cell_type": "code",
   "execution_count": 121,
   "id": "85870f57",
   "metadata": {},
   "outputs": [
    {
     "data": {
      "image/png": "[encoded data removed]",
      "text/plain": [
       "<Figure size 432x288 with 1 Axes>"
      ]
     },
     "metadata": {
      "needs_background": "light"
     },
     "output_type": "display_data"
    },
    {
     "data": {
      "image/png": "[encoded data removed]",
      "text/plain": [
       "<Figure size 432x288 with 1 Axes>"
      ]
     },
     "metadata": {
      "needs_background": "light"
     },
     "output_type": "display_data"
    },
    {
     "data": {
      "text/plain": [
       "{'missing': 0,\n",
       " 'min': 2,\n",
       " 'max': 3881,\n",
       " 'mean': 371.99,\n",
       " 'var': 120498.12,\n",
       " 'std': 347.13,\n",
       " 'range': 3879,\n",
       " 'q1': 138.0,\n",
       " 'q2': 255.0,\n",
       " 'q3': 496.0,\n",
       " 'skewness': 2.14,\n",
       " 'kurtosis': 7.3}"
      ]
     },
     "execution_count": 121,
     "metadata": {},
     "output_type": "execute_result"
    }
   ],
   "source": [
    "# 'duration', 'campaign', 'pdays', 'previous', 'deposit'\n",
    "univariate_num(data=bank, x=\"duration\")"
   ]
  },
  {
   "cell_type": "code",
   "execution_count": 122,
   "id": "68af78aa",
   "metadata": {},
   "outputs": [
    {
     "data": {
      "image/png": "[encoded data removed]",
      "text/plain": [
       "<Figure size 432x288 with 1 Axes>"
      ]
     },
     "metadata": {
      "needs_background": "light"
     },
     "output_type": "display_data"
    },
    {
     "data": {
      "image/png": "[encoded data removed]",
      "text/plain": [
       "<Figure size 432x288 with 1 Axes>"
      ]
     },
     "metadata": {
      "needs_background": "light"
     },
     "output_type": "display_data"
    },
    {
     "data": {
      "text/plain": [
       "{'missing': 0,\n",
       " 'min': 1,\n",
       " 'max': 63,\n",
       " 'mean': 2.51,\n",
       " 'var': 7.41,\n",
       " 'std': 2.72,\n",
       " 'range': 62,\n",
       " 'q1': 1.0,\n",
       " 'q2': 2.0,\n",
       " 'q3': 3.0,\n",
       " 'skewness': 5.55,\n",
       " 'kurtosis': 57.39}"
      ]
     },
     "execution_count": 122,
     "metadata": {},
     "output_type": "execute_result"
    }
   ],
   "source": [
    "# 'campaign', 'pdays', 'previous', 'deposit'\n",
    "univariate_num(data=bank, x=\"campaign\")"
   ]
  },
  {
   "cell_type": "code",
   "execution_count": 123,
   "id": "445bedce",
   "metadata": {},
   "outputs": [
    {
     "data": {
      "text/plain": [
       "<AxesSubplot:xlabel='campaign', ylabel='count'>"
      ]
     },
     "execution_count": 123,
     "metadata": {},
     "output_type": "execute_result"
    },
    {
     "data": {
      "image/png": "[encoded data removed]",
      "text/plain": [
       "<Figure size 576x216 with 1 Axes>"
      ]
     },
     "metadata": {
      "needs_background": "light"
     },
     "output_type": "display_data"
    }
   ],
   "source": [
    "plt.figure(figsize=(8,3))\n",
    "sns.countplot(data=bank, x=\"campaign\")"
   ]
  },
  {
   "cell_type": "code",
   "execution_count": 124,
   "id": "b87d6096",
   "metadata": {},
   "outputs": [
    {
     "data": {
      "image/png": "[encoded data removed]",
      "text/plain": [
       "<Figure size 432x288 with 1 Axes>"
      ]
     },
     "metadata": {
      "needs_background": "light"
     },
     "output_type": "display_data"
    },
    {
     "data": {
      "image/png": "[encoded data removed]",
      "text/plain": [
       "<Figure size 432x288 with 1 Axes>"
      ]
     },
     "metadata": {
      "needs_background": "light"
     },
     "output_type": "display_data"
    },
    {
     "data": {
      "text/plain": [
       "{'missing': 0,\n",
       " 'min': -1,\n",
       " 'max': 854,\n",
       " 'mean': 51.33,\n",
       " 'var': 11828.36,\n",
       " 'std': 108.76,\n",
       " 'range': 855,\n",
       " 'q1': -1.0,\n",
       " 'q2': -1.0,\n",
       " 'q3': 20.75,\n",
       " 'skewness': 2.45,\n",
       " 'kurtosis': 6.84}"
      ]
     },
     "execution_count": 124,
     "metadata": {},
     "output_type": "execute_result"
    }
   ],
   "source": [
    "#  'pdays', 'previous', 'deposit'\n",
    "univariate_num(data=bank, x=\"pdays\")"
   ]
  },
  {
   "cell_type": "code",
   "execution_count": 125,
   "id": "355a0a81",
   "metadata": {},
   "outputs": [
    {
     "data": {
      "text/plain": [
       "<AxesSubplot:xlabel='pdays', ylabel='count'>"
      ]
     },
     "execution_count": 125,
     "metadata": {},
     "output_type": "execute_result"
    },
    {
     "data": {
      "image/png": "[encoded data removed]",
      "text/plain": [
       "<Figure size 576x216 with 1 Axes>"
      ]
     },
     "metadata": {
      "needs_background": "light"
     },
     "output_type": "display_data"
    }
   ],
   "source": [
    "plt.figure(figsize=(8,3))\n",
    "sns.countplot(data=bank, x=\"pdays\")"
   ]
  },
  {
   "cell_type": "code",
   "execution_count": 126,
   "id": "dd70a23d",
   "metadata": {},
   "outputs": [
    {
     "data": {
      "text/plain": [
       "-1      8324\n",
       " 92      106\n",
       " 182      89\n",
       " 91       84\n",
       " 181      81\n",
       "        ... \n",
       " 437       1\n",
       " 728       1\n",
       " 518       1\n",
       " 828       1\n",
       " 118       1\n",
       "Name: pdays, Length: 472, dtype: int64"
      ]
     },
     "execution_count": 126,
     "metadata": {},
     "output_type": "execute_result"
    }
   ],
   "source": [
    "bank[\"pdays\"].value_counts()"
   ]
  },
  {
   "cell_type": "code",
   "execution_count": 127,
   "id": "48e8f865",
   "metadata": {},
   "outputs": [],
   "source": [
    "bank.loc[bank[\"pdays\"]==-1, \"pdays\"]=999\n",
    "\n",
    "bank[\"recent_pdays\"]=1/bank[\"pdays\"]\n",
    "\n",
    "bank.drop(columns=[\"pdays\"], inplace=True)"
   ]
  },
  {
   "cell_type": "code",
   "execution_count": 128,
   "id": "76401a43",
   "metadata": {},
   "outputs": [
    {
     "data": {
      "image/png": "[encoded data removed]",
      "text/plain": [
       "<Figure size 432x288 with 1 Axes>"
      ]
     },
     "metadata": {
      "needs_background": "light"
     },
     "output_type": "display_data"
    },
    {
     "data": {
      "image/png": "[encoded data removed]",
      "text/plain": [
       "<Figure size 432x288 with 1 Axes>"
      ]
     },
     "metadata": {
      "needs_background": "light"
     },
     "output_type": "display_data"
    },
    {
     "data": {
      "text/plain": [
       "{'missing': 0,\n",
       " 'min': 0,\n",
       " 'max': 58,\n",
       " 'mean': 0.83,\n",
       " 'var': 5.25,\n",
       " 'std': 2.29,\n",
       " 'range': 58,\n",
       " 'q1': 0.0,\n",
       " 'q2': 0.0,\n",
       " 'q3': 1.0,\n",
       " 'skewness': 7.34,\n",
       " 'kurtosis': 106.2}"
      ]
     },
     "execution_count": 128,
     "metadata": {},
     "output_type": "execute_result"
    }
   ],
   "source": [
    "univariate_num(data=bank, x=\"previous\")"
   ]
  },
  {
   "cell_type": "markdown",
   "id": "0e96c906",
   "metadata": {},
   "source": [
    "## bivariate analysis"
   ]
  },
  {
   "cell_type": "code",
   "execution_count": 129,
   "id": "f6a56464",
   "metadata": {},
   "outputs": [],
   "source": [
    "# # cat-cat\n",
    "# cat-num\n",
    "# num-num"
   ]
  },
  {
   "cell_type": "code",
   "execution_count": 130,
   "id": "8011bceb",
   "metadata": {},
   "outputs": [
    {
     "data": {
      "text/html": [
       "<div>\n",
       "<style scoped>\n",
       "    .dataframe tbody tr th:only-of-type {\n",
       "        vertical-align: middle;\n",
       "    }\n",
       "\n",
       "    .dataframe tbody tr th {\n",
       "        vertical-align: top;\n",
       "    }\n",
       "\n",
       "    .dataframe thead th {\n",
       "        text-align: right;\n",
       "    }\n",
       "</style>\n",
       "<table border=\"1\" class=\"dataframe\">\n",
       "  <thead>\n",
       "    <tr style=\"text-align: right;\">\n",
       "      <th>deposit</th>\n",
       "      <th>0</th>\n",
       "      <th>1</th>\n",
       "    </tr>\n",
       "    <tr>\n",
       "      <th>job</th>\n",
       "      <th></th>\n",
       "      <th></th>\n",
       "    </tr>\n",
       "  </thead>\n",
       "  <tbody>\n",
       "    <tr>\n",
       "      <th>blue-collar</th>\n",
       "      <td>1236</td>\n",
       "      <td>708</td>\n",
       "    </tr>\n",
       "    <tr>\n",
       "      <th>others</th>\n",
       "      <td>544</td>\n",
       "      <td>1021</td>\n",
       "    </tr>\n",
       "    <tr>\n",
       "      <th>pink-collar</th>\n",
       "      <td>719</td>\n",
       "      <td>478</td>\n",
       "    </tr>\n",
       "    <tr>\n",
       "      <th>self-depend</th>\n",
       "      <td>423</td>\n",
       "      <td>310</td>\n",
       "    </tr>\n",
       "    <tr>\n",
       "      <th>technician</th>\n",
       "      <td>983</td>\n",
       "      <td>840</td>\n",
       "    </tr>\n",
       "    <tr>\n",
       "      <th>white-collar</th>\n",
       "      <td>1968</td>\n",
       "      <td>1932</td>\n",
       "    </tr>\n",
       "  </tbody>\n",
       "</table>\n",
       "</div>"
      ],
      "text/plain": [
       "deposit          0     1\n",
       "job                     \n",
       "blue-collar   1236   708\n",
       "others         544  1021\n",
       "pink-collar    719   478\n",
       "self-depend    423   310\n",
       "technician     983   840\n",
       "white-collar  1968  1932"
      ]
     },
     "execution_count": 130,
     "metadata": {},
     "output_type": "execute_result"
    }
   ],
   "source": [
    "pd.crosstab(bank[\"job\"],bank[\"deposit\"])"
   ]
  },
  {
   "cell_type": "code",
   "execution_count": 131,
   "id": "1892789e",
   "metadata": {},
   "outputs": [
    {
     "data": {
      "text/html": [
       "<div>\n",
       "<style scoped>\n",
       "    .dataframe tbody tr th:only-of-type {\n",
       "        vertical-align: middle;\n",
       "    }\n",
       "\n",
       "    .dataframe tbody tr th {\n",
       "        vertical-align: top;\n",
       "    }\n",
       "\n",
       "    .dataframe thead th {\n",
       "        text-align: right;\n",
       "    }\n",
       "</style>\n",
       "<table border=\"1\" class=\"dataframe\">\n",
       "  <thead>\n",
       "    <tr style=\"text-align: right;\">\n",
       "      <th>deposit</th>\n",
       "      <th>0</th>\n",
       "      <th>1</th>\n",
       "    </tr>\n",
       "    <tr>\n",
       "      <th>job</th>\n",
       "      <th></th>\n",
       "      <th></th>\n",
       "    </tr>\n",
       "  </thead>\n",
       "  <tbody>\n",
       "    <tr>\n",
       "      <th>blue-collar</th>\n",
       "      <td>0.635802</td>\n",
       "      <td>0.364198</td>\n",
       "    </tr>\n",
       "    <tr>\n",
       "      <th>others</th>\n",
       "      <td>0.347604</td>\n",
       "      <td>0.652396</td>\n",
       "    </tr>\n",
       "    <tr>\n",
       "      <th>pink-collar</th>\n",
       "      <td>0.600668</td>\n",
       "      <td>0.399332</td>\n",
       "    </tr>\n",
       "    <tr>\n",
       "      <th>self-depend</th>\n",
       "      <td>0.577080</td>\n",
       "      <td>0.422920</td>\n",
       "    </tr>\n",
       "    <tr>\n",
       "      <th>technician</th>\n",
       "      <td>0.539221</td>\n",
       "      <td>0.460779</td>\n",
       "    </tr>\n",
       "    <tr>\n",
       "      <th>white-collar</th>\n",
       "      <td>0.504615</td>\n",
       "      <td>0.495385</td>\n",
       "    </tr>\n",
       "  </tbody>\n",
       "</table>\n",
       "</div>"
      ],
      "text/plain": [
       "deposit              0         1\n",
       "job                             \n",
       "blue-collar   0.635802  0.364198\n",
       "others        0.347604  0.652396\n",
       "pink-collar   0.600668  0.399332\n",
       "self-depend   0.577080  0.422920\n",
       "technician    0.539221  0.460779\n",
       "white-collar  0.504615  0.495385"
      ]
     },
     "execution_count": 131,
     "metadata": {},
     "output_type": "execute_result"
    }
   ],
   "source": [
    "pd.crosstab(bank[\"job\"],bank[\"deposit\"], normalize=\"index\")"
   ]
  },
  {
   "cell_type": "code",
   "execution_count": 132,
   "id": "974a103d",
   "metadata": {},
   "outputs": [
    {
     "data": {
      "text/plain": [
       "Index(['job', 'marital', 'education', 'default', 'housing', 'loan', 'month',\n",
       "       'poutcome'],\n",
       "      dtype='object')"
      ]
     },
     "execution_count": 132,
     "metadata": {},
     "output_type": "execute_result"
    }
   ],
   "source": [
    "bank.dtypes[bank.dtypes==\"object\"].index"
   ]
  },
  {
   "cell_type": "code",
   "execution_count": 133,
   "id": "b1a4914f",
   "metadata": {},
   "outputs": [
    {
     "data": {
      "text/html": [
       "<div>\n",
       "<style scoped>\n",
       "    .dataframe tbody tr th:only-of-type {\n",
       "        vertical-align: middle;\n",
       "    }\n",
       "\n",
       "    .dataframe tbody tr th {\n",
       "        vertical-align: top;\n",
       "    }\n",
       "\n",
       "    .dataframe thead th {\n",
       "        text-align: right;\n",
       "    }\n",
       "</style>\n",
       "<table border=\"1\" class=\"dataframe\">\n",
       "  <thead>\n",
       "    <tr style=\"text-align: right;\">\n",
       "      <th>deposit</th>\n",
       "      <th>0</th>\n",
       "      <th>1</th>\n",
       "    </tr>\n",
       "    <tr>\n",
       "      <th>marital</th>\n",
       "      <th></th>\n",
       "      <th></th>\n",
       "    </tr>\n",
       "  </thead>\n",
       "  <tbody>\n",
       "    <tr>\n",
       "      <th>divorced</th>\n",
       "      <td>0.518948</td>\n",
       "      <td>0.481052</td>\n",
       "    </tr>\n",
       "    <tr>\n",
       "      <th>married</th>\n",
       "      <td>0.566210</td>\n",
       "      <td>0.433790</td>\n",
       "    </tr>\n",
       "    <tr>\n",
       "      <th>single</th>\n",
       "      <td>0.456509</td>\n",
       "      <td>0.543491</td>\n",
       "    </tr>\n",
       "  </tbody>\n",
       "</table>\n",
       "</div>"
      ],
      "text/plain": [
       "deposit          0         1\n",
       "marital                     \n",
       "divorced  0.518948  0.481052\n",
       "married   0.566210  0.433790\n",
       "single    0.456509  0.543491"
      ]
     },
     "execution_count": 133,
     "metadata": {},
     "output_type": "execute_result"
    }
   ],
   "source": [
    "pd.crosstab(bank[\"marital\"],bank[\"deposit\"], normalize=\"index\")"
   ]
  },
  {
   "cell_type": "code",
   "execution_count": 134,
   "id": "a63a72fe",
   "metadata": {},
   "outputs": [
    {
     "data": {
      "text/html": [
       "<div>\n",
       "<style scoped>\n",
       "    .dataframe tbody tr th:only-of-type {\n",
       "        vertical-align: middle;\n",
       "    }\n",
       "\n",
       "    .dataframe tbody tr th {\n",
       "        vertical-align: top;\n",
       "    }\n",
       "\n",
       "    .dataframe thead th {\n",
       "        text-align: right;\n",
       "    }\n",
       "</style>\n",
       "<table border=\"1\" class=\"dataframe\">\n",
       "  <thead>\n",
       "    <tr style=\"text-align: right;\">\n",
       "      <th>deposit</th>\n",
       "      <th>0</th>\n",
       "      <th>1</th>\n",
       "    </tr>\n",
       "    <tr>\n",
       "      <th>education</th>\n",
       "      <th></th>\n",
       "      <th></th>\n",
       "    </tr>\n",
       "  </thead>\n",
       "  <tbody>\n",
       "    <tr>\n",
       "      <th>primary</th>\n",
       "      <td>0.606000</td>\n",
       "      <td>0.394000</td>\n",
       "    </tr>\n",
       "    <tr>\n",
       "      <th>secondary</th>\n",
       "      <td>0.552593</td>\n",
       "      <td>0.447407</td>\n",
       "    </tr>\n",
       "    <tr>\n",
       "      <th>tertiary</th>\n",
       "      <td>0.458932</td>\n",
       "      <td>0.541068</td>\n",
       "    </tr>\n",
       "    <tr>\n",
       "      <th>unknown</th>\n",
       "      <td>0.492958</td>\n",
       "      <td>0.507042</td>\n",
       "    </tr>\n",
       "  </tbody>\n",
       "</table>\n",
       "</div>"
      ],
      "text/plain": [
       "deposit           0         1\n",
       "education                    \n",
       "primary    0.606000  0.394000\n",
       "secondary  0.552593  0.447407\n",
       "tertiary   0.458932  0.541068\n",
       "unknown    0.492958  0.507042"
      ]
     },
     "execution_count": 134,
     "metadata": {},
     "output_type": "execute_result"
    }
   ],
   "source": [
    "pd.crosstab(bank[\"education\"],bank[\"deposit\"], normalize=\"index\")"
   ]
  },
  {
   "cell_type": "code",
   "execution_count": 135,
   "id": "684a59f2",
   "metadata": {},
   "outputs": [
    {
     "data": {
      "text/html": [
       "<div>\n",
       "<style scoped>\n",
       "    .dataframe tbody tr th:only-of-type {\n",
       "        vertical-align: middle;\n",
       "    }\n",
       "\n",
       "    .dataframe tbody tr th {\n",
       "        vertical-align: top;\n",
       "    }\n",
       "\n",
       "    .dataframe thead th {\n",
       "        text-align: right;\n",
       "    }\n",
       "</style>\n",
       "<table border=\"1\" class=\"dataframe\">\n",
       "  <thead>\n",
       "    <tr style=\"text-align: right;\">\n",
       "      <th>deposit</th>\n",
       "      <th>0</th>\n",
       "      <th>1</th>\n",
       "    </tr>\n",
       "    <tr>\n",
       "      <th>default</th>\n",
       "      <th></th>\n",
       "      <th></th>\n",
       "    </tr>\n",
       "  </thead>\n",
       "  <tbody>\n",
       "    <tr>\n",
       "      <th>no</th>\n",
       "      <td>0.523649</td>\n",
       "      <td>0.476351</td>\n",
       "    </tr>\n",
       "    <tr>\n",
       "      <th>yes</th>\n",
       "      <td>0.690476</td>\n",
       "      <td>0.309524</td>\n",
       "    </tr>\n",
       "  </tbody>\n",
       "</table>\n",
       "</div>"
      ],
      "text/plain": [
       "deposit         0         1\n",
       "default                    \n",
       "no       0.523649  0.476351\n",
       "yes      0.690476  0.309524"
      ]
     },
     "execution_count": 135,
     "metadata": {},
     "output_type": "execute_result"
    }
   ],
   "source": [
    "# 'default', 'housing', 'loan', 'month', 'poutcome'\n",
    "pd.crosstab(bank[\"default\"],bank[\"deposit\"], normalize=\"index\")"
   ]
  },
  {
   "cell_type": "code",
   "execution_count": 136,
   "id": "53ae2c61",
   "metadata": {},
   "outputs": [
    {
     "data": {
      "text/html": [
       "<div>\n",
       "<style scoped>\n",
       "    .dataframe tbody tr th:only-of-type {\n",
       "        vertical-align: middle;\n",
       "    }\n",
       "\n",
       "    .dataframe tbody tr th {\n",
       "        vertical-align: top;\n",
       "    }\n",
       "\n",
       "    .dataframe thead th {\n",
       "        text-align: right;\n",
       "    }\n",
       "</style>\n",
       "<table border=\"1\" class=\"dataframe\">\n",
       "  <thead>\n",
       "    <tr style=\"text-align: right;\">\n",
       "      <th>deposit</th>\n",
       "      <th>0</th>\n",
       "      <th>1</th>\n",
       "    </tr>\n",
       "    <tr>\n",
       "      <th>housing</th>\n",
       "      <th></th>\n",
       "      <th></th>\n",
       "    </tr>\n",
       "  </thead>\n",
       "  <tbody>\n",
       "    <tr>\n",
       "      <th>no</th>\n",
       "      <td>0.429689</td>\n",
       "      <td>0.570311</td>\n",
       "    </tr>\n",
       "    <tr>\n",
       "      <th>yes</th>\n",
       "      <td>0.633592</td>\n",
       "      <td>0.366408</td>\n",
       "    </tr>\n",
       "  </tbody>\n",
       "</table>\n",
       "</div>"
      ],
      "text/plain": [
       "deposit         0         1\n",
       "housing                    \n",
       "no       0.429689  0.570311\n",
       "yes      0.633592  0.366408"
      ]
     },
     "execution_count": 136,
     "metadata": {},
     "output_type": "execute_result"
    }
   ],
   "source": [
    "# 'default', 'housing', 'loan', 'month', 'poutcome'\n",
    "pd.crosstab(bank[\"housing\"],bank[\"deposit\"], normalize=\"index\")"
   ]
  },
  {
   "cell_type": "code",
   "execution_count": 137,
   "id": "e7814603",
   "metadata": {},
   "outputs": [
    {
     "data": {
      "text/html": [
       "<div>\n",
       "<style scoped>\n",
       "    .dataframe tbody tr th:only-of-type {\n",
       "        vertical-align: middle;\n",
       "    }\n",
       "\n",
       "    .dataframe tbody tr th {\n",
       "        vertical-align: top;\n",
       "    }\n",
       "\n",
       "    .dataframe thead th {\n",
       "        text-align: right;\n",
       "    }\n",
       "</style>\n",
       "<table border=\"1\" class=\"dataframe\">\n",
       "  <thead>\n",
       "    <tr style=\"text-align: right;\">\n",
       "      <th>deposit</th>\n",
       "      <th>0</th>\n",
       "      <th>1</th>\n",
       "    </tr>\n",
       "    <tr>\n",
       "      <th>loan</th>\n",
       "      <th></th>\n",
       "      <th></th>\n",
       "    </tr>\n",
       "  </thead>\n",
       "  <tbody>\n",
       "    <tr>\n",
       "      <th>no</th>\n",
       "      <td>0.504741</td>\n",
       "      <td>0.495259</td>\n",
       "    </tr>\n",
       "    <tr>\n",
       "      <th>yes</th>\n",
       "      <td>0.668493</td>\n",
       "      <td>0.331507</td>\n",
       "    </tr>\n",
       "  </tbody>\n",
       "</table>\n",
       "</div>"
      ],
      "text/plain": [
       "deposit         0         1\n",
       "loan                       \n",
       "no       0.504741  0.495259\n",
       "yes      0.668493  0.331507"
      ]
     },
     "execution_count": 137,
     "metadata": {},
     "output_type": "execute_result"
    }
   ],
   "source": [
    "# 'default', 'housing', 'loan', 'month', 'poutcome'\n",
    "pd.crosstab(bank[\"loan\"],bank[\"deposit\"], normalize=\"index\")"
   ]
  },
  {
   "cell_type": "code",
   "execution_count": 138,
   "id": "002f4892",
   "metadata": {},
   "outputs": [
    {
     "data": {
      "text/html": [
       "<div>\n",
       "<style scoped>\n",
       "    .dataframe tbody tr th:only-of-type {\n",
       "        vertical-align: middle;\n",
       "    }\n",
       "\n",
       "    .dataframe tbody tr th {\n",
       "        vertical-align: top;\n",
       "    }\n",
       "\n",
       "    .dataframe thead th {\n",
       "        text-align: right;\n",
       "    }\n",
       "</style>\n",
       "<table border=\"1\" class=\"dataframe\">\n",
       "  <thead>\n",
       "    <tr style=\"text-align: right;\">\n",
       "      <th>deposit</th>\n",
       "      <th>0</th>\n",
       "      <th>1</th>\n",
       "    </tr>\n",
       "    <tr>\n",
       "      <th>month</th>\n",
       "      <th></th>\n",
       "      <th></th>\n",
       "    </tr>\n",
       "  </thead>\n",
       "  <tbody>\n",
       "    <tr>\n",
       "      <th>apr</th>\n",
       "      <td>0.374865</td>\n",
       "      <td>0.625135</td>\n",
       "    </tr>\n",
       "    <tr>\n",
       "      <th>aug</th>\n",
       "      <td>0.547070</td>\n",
       "      <td>0.452930</td>\n",
       "    </tr>\n",
       "    <tr>\n",
       "      <th>dec</th>\n",
       "      <td>0.090909</td>\n",
       "      <td>0.909091</td>\n",
       "    </tr>\n",
       "    <tr>\n",
       "      <th>feb</th>\n",
       "      <td>0.431701</td>\n",
       "      <td>0.568299</td>\n",
       "    </tr>\n",
       "    <tr>\n",
       "      <th>jan</th>\n",
       "      <td>0.587209</td>\n",
       "      <td>0.412791</td>\n",
       "    </tr>\n",
       "    <tr>\n",
       "      <th>jul</th>\n",
       "      <td>0.585865</td>\n",
       "      <td>0.414135</td>\n",
       "    </tr>\n",
       "    <tr>\n",
       "      <th>jun</th>\n",
       "      <td>0.553191</td>\n",
       "      <td>0.446809</td>\n",
       "    </tr>\n",
       "    <tr>\n",
       "      <th>mar</th>\n",
       "      <td>0.101449</td>\n",
       "      <td>0.898551</td>\n",
       "    </tr>\n",
       "    <tr>\n",
       "      <th>may</th>\n",
       "      <td>0.672450</td>\n",
       "      <td>0.327550</td>\n",
       "    </tr>\n",
       "    <tr>\n",
       "      <th>nov</th>\n",
       "      <td>0.572641</td>\n",
       "      <td>0.427359</td>\n",
       "    </tr>\n",
       "    <tr>\n",
       "      <th>oct</th>\n",
       "      <td>0.176020</td>\n",
       "      <td>0.823980</td>\n",
       "    </tr>\n",
       "    <tr>\n",
       "      <th>sep</th>\n",
       "      <td>0.156740</td>\n",
       "      <td>0.843260</td>\n",
       "    </tr>\n",
       "  </tbody>\n",
       "</table>\n",
       "</div>"
      ],
      "text/plain": [
       "deposit         0         1\n",
       "month                      \n",
       "apr      0.374865  0.625135\n",
       "aug      0.547070  0.452930\n",
       "dec      0.090909  0.909091\n",
       "feb      0.431701  0.568299\n",
       "jan      0.587209  0.412791\n",
       "jul      0.585865  0.414135\n",
       "jun      0.553191  0.446809\n",
       "mar      0.101449  0.898551\n",
       "may      0.672450  0.327550\n",
       "nov      0.572641  0.427359\n",
       "oct      0.176020  0.823980\n",
       "sep      0.156740  0.843260"
      ]
     },
     "execution_count": 138,
     "metadata": {},
     "output_type": "execute_result"
    }
   ],
   "source": [
    "# 'default', 'housing', 'loan', 'month', 'poutcome'\n",
    "pd.crosstab(bank[\"month\"],bank[\"deposit\"], normalize=\"index\")"
   ]
  },
  {
   "cell_type": "code",
   "execution_count": 139,
   "id": "556da2e6",
   "metadata": {},
   "outputs": [
    {
     "data": {
      "text/html": [
       "<div>\n",
       "<style scoped>\n",
       "    .dataframe tbody tr th:only-of-type {\n",
       "        vertical-align: middle;\n",
       "    }\n",
       "\n",
       "    .dataframe tbody tr th {\n",
       "        vertical-align: top;\n",
       "    }\n",
       "\n",
       "    .dataframe thead th {\n",
       "        text-align: right;\n",
       "    }\n",
       "</style>\n",
       "<table border=\"1\" class=\"dataframe\">\n",
       "  <thead>\n",
       "    <tr style=\"text-align: right;\">\n",
       "      <th>deposit</th>\n",
       "      <th>0</th>\n",
       "      <th>1</th>\n",
       "    </tr>\n",
       "    <tr>\n",
       "      <th>poutcome</th>\n",
       "      <th></th>\n",
       "      <th></th>\n",
       "    </tr>\n",
       "  </thead>\n",
       "  <tbody>\n",
       "    <tr>\n",
       "      <th>failure</th>\n",
       "      <td>0.496743</td>\n",
       "      <td>0.503257</td>\n",
       "    </tr>\n",
       "    <tr>\n",
       "      <th>other</th>\n",
       "      <td>0.583324</td>\n",
       "      <td>0.416676</td>\n",
       "    </tr>\n",
       "    <tr>\n",
       "      <th>success</th>\n",
       "      <td>0.086835</td>\n",
       "      <td>0.913165</td>\n",
       "    </tr>\n",
       "  </tbody>\n",
       "</table>\n",
       "</div>"
      ],
      "text/plain": [
       "deposit          0         1\n",
       "poutcome                    \n",
       "failure   0.496743  0.503257\n",
       "other     0.583324  0.416676\n",
       "success   0.086835  0.913165"
      ]
     },
     "execution_count": 139,
     "metadata": {},
     "output_type": "execute_result"
    }
   ],
   "source": [
    "# 'default', 'housing', 'loan', 'month', 'poutcome'\n",
    "pd.crosstab(bank[\"poutcome\"],bank[\"deposit\"], normalize=\"index\")"
   ]
  },
  {
   "cell_type": "code",
   "execution_count": 140,
   "id": "0cae0baa",
   "metadata": {},
   "outputs": [],
   "source": [
    "#cat-num"
   ]
  },
  {
   "cell_type": "code",
   "execution_count": 141,
   "id": "1cb36e70",
   "metadata": {},
   "outputs": [
    {
     "data": {
      "text/plain": [
       "Index(['age', 'job', 'marital', 'education', 'default', 'balance', 'housing',\n",
       "       'loan', 'month', 'duration', 'campaign', 'previous', 'poutcome',\n",
       "       'deposit', 'recent_pdays'],\n",
       "      dtype='object')"
      ]
     },
     "execution_count": 141,
     "metadata": {},
     "output_type": "execute_result"
    }
   ],
   "source": [
    "bank.columns"
   ]
  },
  {
   "cell_type": "code",
   "execution_count": 142,
   "id": "ff9e6568",
   "metadata": {},
   "outputs": [
    {
     "data": {
      "text/html": [
       "<div>\n",
       "<style scoped>\n",
       "    .dataframe tbody tr th:only-of-type {\n",
       "        vertical-align: middle;\n",
       "    }\n",
       "\n",
       "    .dataframe tbody tr th {\n",
       "        vertical-align: top;\n",
       "    }\n",
       "\n",
       "    .dataframe thead tr th {\n",
       "        text-align: left;\n",
       "    }\n",
       "\n",
       "    .dataframe thead tr:last-of-type th {\n",
       "        text-align: right;\n",
       "    }\n",
       "</style>\n",
       "<table border=\"1\" class=\"dataframe\">\n",
       "  <thead>\n",
       "    <tr>\n",
       "      <th></th>\n",
       "      <th colspan=\"6\" halign=\"left\">age</th>\n",
       "    </tr>\n",
       "    <tr>\n",
       "      <th></th>\n",
       "      <th>min</th>\n",
       "      <th>mean</th>\n",
       "      <th>median</th>\n",
       "      <th>max</th>\n",
       "      <th>std</th>\n",
       "      <th>count</th>\n",
       "    </tr>\n",
       "    <tr>\n",
       "      <th>deposit</th>\n",
       "      <th></th>\n",
       "      <th></th>\n",
       "      <th></th>\n",
       "      <th></th>\n",
       "      <th></th>\n",
       "      <th></th>\n",
       "    </tr>\n",
       "  </thead>\n",
       "  <tbody>\n",
       "    <tr>\n",
       "      <th>0</th>\n",
       "      <td>18</td>\n",
       "      <td>40.837391</td>\n",
       "      <td>39.0</td>\n",
       "      <td>89</td>\n",
       "      <td>10.264815</td>\n",
       "      <td>5873</td>\n",
       "    </tr>\n",
       "    <tr>\n",
       "      <th>1</th>\n",
       "      <td>18</td>\n",
       "      <td>41.670070</td>\n",
       "      <td>38.0</td>\n",
       "      <td>95</td>\n",
       "      <td>13.497781</td>\n",
       "      <td>5289</td>\n",
       "    </tr>\n",
       "  </tbody>\n",
       "</table>\n",
       "</div>"
      ],
      "text/plain": [
       "        age                                       \n",
       "        min       mean median max        std count\n",
       "deposit                                           \n",
       "0        18  40.837391   39.0  89  10.264815  5873\n",
       "1        18  41.670070   38.0  95  13.497781  5289"
      ]
     },
     "execution_count": 142,
     "metadata": {},
     "output_type": "execute_result"
    }
   ],
   "source": [
    "bank.groupby([\"deposit\"]).agg({\"age\":[\"min\", \"mean\",\"median\",\"max\",\"std\",\"count\"]})"
   ]
  },
  {
   "cell_type": "code",
   "execution_count": 143,
   "id": "4b370527",
   "metadata": {},
   "outputs": [
    {
     "data": {
      "text/plain": [
       "<AxesSubplot:xlabel='deposit'>"
      ]
     },
     "execution_count": 143,
     "metadata": {},
     "output_type": "execute_result"
    },
    {
     "data": {
      "image/png": "[encoded data removed]",
      "text/plain": [
       "<Figure size 432x288 with 1 Axes>"
      ]
     },
     "metadata": {
      "needs_background": "light"
     },
     "output_type": "display_data"
    }
   ],
   "source": [
    "bank.groupby([\"deposit\"]).agg({\"age\":[\"mean\"]}).plot(kind=\"bar\")"
   ]
  },
  {
   "cell_type": "code",
   "execution_count": 144,
   "id": "1b98729f",
   "metadata": {},
   "outputs": [],
   "source": [
    "from scipy import stats"
   ]
  },
  {
   "cell_type": "code",
   "execution_count": 145,
   "id": "4a319a1f",
   "metadata": {},
   "outputs": [],
   "source": [
    "# null hypo: avg_age_(non deposit)=avg_age_(deposit)\n",
    "# alter hypo: avg_age_(non deposit)!=avg_age_(deposit)\n",
    "# tests: two sample t test\n",
    "# CI: 95%\n",
    "# alpha: 0.05 \n",
    "# decision Rule:\n",
    "#     if p value >= Alpha:null is accepted\n",
    "#         p value<= Alpha:null is rejected and alternative is accepted"
   ]
  },
  {
   "cell_type": "code",
   "execution_count": 146,
   "id": "b4d044c0",
   "metadata": {},
   "outputs": [],
   "source": [
    "dp=bank[bank[\"deposit\"]==1]\n",
    "ndp=bank[bank[\"deposit\"]==0]"
   ]
  },
  {
   "cell_type": "code",
   "execution_count": 147,
   "id": "6676322f",
   "metadata": {},
   "outputs": [
    {
     "data": {
      "text/plain": [
       "Ttest_indResult(statistic=3.6892130272779955, pvalue=0.00022601800590796526)"
      ]
     },
     "execution_count": 147,
     "metadata": {},
     "output_type": "execute_result"
    }
   ],
   "source": [
    "stats.ttest_ind(dp[\"age\"], ndp[\"age\"])"
   ]
  },
  {
   "cell_type": "markdown",
   "id": "c09c30d6",
   "metadata": {},
   "source": [
    "## outlier treatment"
   ]
  },
  {
   "cell_type": "markdown",
   "id": "646d346c",
   "metadata": {},
   "source": [
    "### tuckey method"
   ]
  },
  {
   "cell_type": "code",
   "execution_count": 148,
   "id": "87bc981e",
   "metadata": {},
   "outputs": [],
   "source": [
    "var=\"balance\"\n",
    "q1=bank[var].quantile(.25)\n",
    "q3=bank[var].quantile(.75)\n",
    "lower_cap=q1-1.5*(q3-q1)\n",
    "upper_cap=q3+1.5*(q3-q1)\n",
    "\n",
    "bank[var]=np.where(bank[var]>=upper_cap,upper_cap,bank[var])\n",
    "bank[var]=np.where(bank[var]<=lower_cap,lower_cap,bank[var])"
   ]
  },
  {
   "cell_type": "code",
   "execution_count": 149,
   "id": "dda19b6c",
   "metadata": {},
   "outputs": [
    {
     "data": {
      "text/plain": [
       "<AxesSubplot:ylabel='balance'>"
      ]
     },
     "execution_count": 149,
     "metadata": {},
     "output_type": "execute_result"
    },
    {
     "data": {
      "image/png": "[encoded data removed]",
      "text/plain": [
       "<Figure size 432x288 with 1 Axes>"
      ]
     },
     "metadata": {
      "needs_background": "light"
     },
     "output_type": "display_data"
    }
   ],
   "source": [
    "sns.boxplot(data=bank,y=\"balance\")"
   ]
  },
  {
   "cell_type": "code",
   "execution_count": 150,
   "id": "677e41f9",
   "metadata": {},
   "outputs": [
    {
     "data": {
      "text/plain": [
       "<AxesSubplot:ylabel='duration'>"
      ]
     },
     "execution_count": 150,
     "metadata": {},
     "output_type": "execute_result"
    },
    {
     "data": {
      "image/png": "[encoded data removed]",
      "text/plain": [
       "<Figure size 432x288 with 1 Axes>"
      ]
     },
     "metadata": {
      "needs_background": "light"
     },
     "output_type": "display_data"
    }
   ],
   "source": [
    "sns.boxplot(data=bank,y=\"duration\")"
   ]
  },
  {
   "cell_type": "code",
   "execution_count": 151,
   "id": "bdae5282",
   "metadata": {},
   "outputs": [],
   "source": [
    "var=\"duration\"\n",
    "q1=bank[var].quantile(.25)\n",
    "q3=bank[var].quantile(.75)\n",
    "lower_cap=q1-1.5*(q3-q1)\n",
    "upper_cap=q3+1.5*(q3-q1)\n",
    "\n",
    "bank[var]=np.where(bank[var]>=upper_cap,upper_cap,bank[var])\n",
    "bank[var]=np.where(bank[var]<=lower_cap,lower_cap,bank[var])"
   ]
  },
  {
   "cell_type": "code",
   "execution_count": 152,
   "id": "c6935b8b",
   "metadata": {},
   "outputs": [
    {
     "data": {
      "text/plain": [
       "<AxesSubplot:ylabel='duration'>"
      ]
     },
     "execution_count": 152,
     "metadata": {},
     "output_type": "execute_result"
    },
    {
     "data": {
      "image/png": "[encoded data removed]",
      "text/plain": [
       "<Figure size 432x288 with 1 Axes>"
      ]
     },
     "metadata": {
      "needs_background": "light"
     },
     "output_type": "display_data"
    }
   ],
   "source": [
    "sns.boxplot(data=bank,y=\"duration\")"
   ]
  },
  {
   "cell_type": "code",
   "execution_count": 153,
   "id": "d05ad162",
   "metadata": {},
   "outputs": [
    {
     "data": {
      "text/plain": [
       "Index(['age', 'job', 'marital', 'education', 'default', 'balance', 'housing',\n",
       "       'loan', 'month', 'duration', 'campaign', 'previous', 'poutcome',\n",
       "       'deposit', 'recent_pdays'],\n",
       "      dtype='object')"
      ]
     },
     "execution_count": 153,
     "metadata": {},
     "output_type": "execute_result"
    }
   ],
   "source": [
    "bank.columns"
   ]
  },
  {
   "cell_type": "code",
   "execution_count": 154,
   "id": "55753bbc",
   "metadata": {},
   "outputs": [
    {
     "data": {
      "text/plain": [
       "<AxesSubplot:ylabel='recent_pdays'>"
      ]
     },
     "execution_count": 154,
     "metadata": {},
     "output_type": "execute_result"
    },
    {
     "data": {
      "image/png": "[encoded data removed]",
      "text/plain": [
       "<Figure size 432x288 with 1 Axes>"
      ]
     },
     "metadata": {
      "needs_background": "light"
     },
     "output_type": "display_data"
    }
   ],
   "source": [
    "sns.boxplot(data=bank,y=\"recent_pdays\")"
   ]
  },
  {
   "cell_type": "code",
   "execution_count": 155,
   "id": "77d2e60a",
   "metadata": {},
   "outputs": [],
   "source": [
    "var=\"recent_pdays\"\n",
    "q1=bank[var].quantile(.25)\n",
    "q3=bank[var].quantile(.75)\n",
    "lower_cap=q1-1.5*(q3-q1)\n",
    "upper_cap=q3+1.5*(q3-q1)\n",
    "\n",
    "bank[var]=np.where(bank[var]>=upper_cap,upper_cap, bank[var])\n",
    "bank[var]=np.where(bank[var]<=lower_cap,lower_cap, bank[var])"
   ]
  },
  {
   "cell_type": "code",
   "execution_count": 156,
   "id": "3232370f",
   "metadata": {},
   "outputs": [
    {
     "data": {
      "text/plain": [
       "<AxesSubplot:ylabel='recent_pdays'>"
      ]
     },
     "execution_count": 156,
     "metadata": {},
     "output_type": "execute_result"
    },
    {
     "data": {
      "image/png": "[encoded data removed]",
      "text/plain": [
       "<Figure size 432x288 with 1 Axes>"
      ]
     },
     "metadata": {
      "needs_background": "light"
     },
     "output_type": "display_data"
    }
   ],
   "source": [
    "sns.boxplot(data=bank,y=\"recent_pdays\")"
   ]
  },
  {
   "cell_type": "markdown",
   "id": "7065b929",
   "metadata": {},
   "source": [
    "## dummies"
   ]
  },
  {
   "cell_type": "code",
   "execution_count": 157,
   "id": "acc3b372",
   "metadata": {},
   "outputs": [],
   "source": [
    "bank1=pd.get_dummies(data=bank, drop_first=True)"
   ]
  },
  {
   "cell_type": "code",
   "execution_count": 158,
   "id": "b929f1f5",
   "metadata": {},
   "outputs": [
    {
     "data": {
      "text/html": [
       "<div>\n",
       "<style scoped>\n",
       "    .dataframe tbody tr th:only-of-type {\n",
       "        vertical-align: middle;\n",
       "    }\n",
       "\n",
       "    .dataframe tbody tr th {\n",
       "        vertical-align: top;\n",
       "    }\n",
       "\n",
       "    .dataframe thead th {\n",
       "        text-align: right;\n",
       "    }\n",
       "</style>\n",
       "<table border=\"1\" class=\"dataframe\">\n",
       "  <thead>\n",
       "    <tr style=\"text-align: right;\">\n",
       "      <th></th>\n",
       "      <th>age</th>\n",
       "      <th>balance</th>\n",
       "      <th>duration</th>\n",
       "      <th>campaign</th>\n",
       "      <th>previous</th>\n",
       "      <th>deposit</th>\n",
       "      <th>recent_pdays</th>\n",
       "      <th>job_others</th>\n",
       "      <th>job_pink-collar</th>\n",
       "      <th>job_self-depend</th>\n",
       "      <th>...</th>\n",
       "      <th>month_jan</th>\n",
       "      <th>month_jul</th>\n",
       "      <th>month_jun</th>\n",
       "      <th>month_mar</th>\n",
       "      <th>month_may</th>\n",
       "      <th>month_nov</th>\n",
       "      <th>month_oct</th>\n",
       "      <th>month_sep</th>\n",
       "      <th>poutcome_other</th>\n",
       "      <th>poutcome_success</th>\n",
       "    </tr>\n",
       "  </thead>\n",
       "  <tbody>\n",
       "    <tr>\n",
       "      <th>0</th>\n",
       "      <td>59</td>\n",
       "      <td>2343.0</td>\n",
       "      <td>1033.0</td>\n",
       "      <td>1</td>\n",
       "      <td>0</td>\n",
       "      <td>1</td>\n",
       "      <td>0.001001</td>\n",
       "      <td>0</td>\n",
       "      <td>0</td>\n",
       "      <td>0</td>\n",
       "      <td>...</td>\n",
       "      <td>0</td>\n",
       "      <td>0</td>\n",
       "      <td>0</td>\n",
       "      <td>0</td>\n",
       "      <td>1</td>\n",
       "      <td>0</td>\n",
       "      <td>0</td>\n",
       "      <td>0</td>\n",
       "      <td>1</td>\n",
       "      <td>0</td>\n",
       "    </tr>\n",
       "    <tr>\n",
       "      <th>1</th>\n",
       "      <td>56</td>\n",
       "      <td>45.0</td>\n",
       "      <td>1033.0</td>\n",
       "      <td>1</td>\n",
       "      <td>0</td>\n",
       "      <td>1</td>\n",
       "      <td>0.001001</td>\n",
       "      <td>0</td>\n",
       "      <td>0</td>\n",
       "      <td>0</td>\n",
       "      <td>...</td>\n",
       "      <td>0</td>\n",
       "      <td>0</td>\n",
       "      <td>0</td>\n",
       "      <td>0</td>\n",
       "      <td>1</td>\n",
       "      <td>0</td>\n",
       "      <td>0</td>\n",
       "      <td>0</td>\n",
       "      <td>1</td>\n",
       "      <td>0</td>\n",
       "    </tr>\n",
       "    <tr>\n",
       "      <th>2</th>\n",
       "      <td>41</td>\n",
       "      <td>1270.0</td>\n",
       "      <td>1033.0</td>\n",
       "      <td>1</td>\n",
       "      <td>0</td>\n",
       "      <td>1</td>\n",
       "      <td>0.001001</td>\n",
       "      <td>0</td>\n",
       "      <td>0</td>\n",
       "      <td>0</td>\n",
       "      <td>...</td>\n",
       "      <td>0</td>\n",
       "      <td>0</td>\n",
       "      <td>0</td>\n",
       "      <td>0</td>\n",
       "      <td>1</td>\n",
       "      <td>0</td>\n",
       "      <td>0</td>\n",
       "      <td>0</td>\n",
       "      <td>1</td>\n",
       "      <td>0</td>\n",
       "    </tr>\n",
       "    <tr>\n",
       "      <th>3</th>\n",
       "      <td>55</td>\n",
       "      <td>2476.0</td>\n",
       "      <td>579.0</td>\n",
       "      <td>1</td>\n",
       "      <td>0</td>\n",
       "      <td>1</td>\n",
       "      <td>0.001001</td>\n",
       "      <td>0</td>\n",
       "      <td>1</td>\n",
       "      <td>0</td>\n",
       "      <td>...</td>\n",
       "      <td>0</td>\n",
       "      <td>0</td>\n",
       "      <td>0</td>\n",
       "      <td>0</td>\n",
       "      <td>1</td>\n",
       "      <td>0</td>\n",
       "      <td>0</td>\n",
       "      <td>0</td>\n",
       "      <td>1</td>\n",
       "      <td>0</td>\n",
       "    </tr>\n",
       "    <tr>\n",
       "      <th>4</th>\n",
       "      <td>54</td>\n",
       "      <td>184.0</td>\n",
       "      <td>673.0</td>\n",
       "      <td>2</td>\n",
       "      <td>0</td>\n",
       "      <td>1</td>\n",
       "      <td>0.001001</td>\n",
       "      <td>0</td>\n",
       "      <td>0</td>\n",
       "      <td>0</td>\n",
       "      <td>...</td>\n",
       "      <td>0</td>\n",
       "      <td>0</td>\n",
       "      <td>0</td>\n",
       "      <td>0</td>\n",
       "      <td>1</td>\n",
       "      <td>0</td>\n",
       "      <td>0</td>\n",
       "      <td>0</td>\n",
       "      <td>1</td>\n",
       "      <td>0</td>\n",
       "    </tr>\n",
       "  </tbody>\n",
       "</table>\n",
       "<p>5 rows × 33 columns</p>\n",
       "</div>"
      ],
      "text/plain": [
       "   age  balance  duration  campaign  previous  deposit  recent_pdays  \\\n",
       "0   59   2343.0    1033.0         1         0        1      0.001001   \n",
       "1   56     45.0    1033.0         1         0        1      0.001001   \n",
       "2   41   1270.0    1033.0         1         0        1      0.001001   \n",
       "3   55   2476.0     579.0         1         0        1      0.001001   \n",
       "4   54    184.0     673.0         2         0        1      0.001001   \n",
       "\n",
       "   job_others  job_pink-collar  job_self-depend  ...  month_jan  month_jul  \\\n",
       "0           0                0                0  ...          0          0   \n",
       "1           0                0                0  ...          0          0   \n",
       "2           0                0                0  ...          0          0   \n",
       "3           0                1                0  ...          0          0   \n",
       "4           0                0                0  ...          0          0   \n",
       "\n",
       "   month_jun  month_mar  month_may  month_nov  month_oct  month_sep  \\\n",
       "0          0          0          1          0          0          0   \n",
       "1          0          0          1          0          0          0   \n",
       "2          0          0          1          0          0          0   \n",
       "3          0          0          1          0          0          0   \n",
       "4          0          0          1          0          0          0   \n",
       "\n",
       "   poutcome_other  poutcome_success  \n",
       "0               1                 0  \n",
       "1               1                 0  \n",
       "2               1                 0  \n",
       "3               1                 0  \n",
       "4               1                 0  \n",
       "\n",
       "[5 rows x 33 columns]"
      ]
     },
     "execution_count": 158,
     "metadata": {},
     "output_type": "execute_result"
    }
   ],
   "source": [
    "bank1.head()"
   ]
  },
  {
   "cell_type": "code",
   "execution_count": 163,
   "id": "0a9e16a3",
   "metadata": {},
   "outputs": [
    {
     "data": {
      "text/plain": [
       "(11162, 33)"
      ]
     },
     "execution_count": 163,
     "metadata": {},
     "output_type": "execute_result"
    }
   ],
   "source": [
    "bank1.shape"
   ]
  },
  {
   "cell_type": "code",
   "execution_count": 164,
   "id": "1357129f",
   "metadata": {},
   "outputs": [],
   "source": [
    "bank1.to_csv(r\"D:\\imaticus.csv\")"
   ]
  },
  {
   "cell_type": "markdown",
   "id": "3f092bda",
   "metadata": {},
   "source": [
    "## model development"
   ]
  },
  {
   "cell_type": "code",
   "execution_count": 72,
   "id": "588dd252",
   "metadata": {},
   "outputs": [],
   "source": [
    "x=bank1.drop(columns=[\"deposit\"])\n",
    "y=bank1[\"deposit\"]"
   ]
  },
  {
   "cell_type": "code",
   "execution_count": 73,
   "id": "3cec66ae",
   "metadata": {},
   "outputs": [],
   "source": [
    "x_train,x_test,y_train,y_test=train_test_split(x,y, test_size=.3, random_state=0)"
   ]
  },
  {
   "cell_type": "code",
   "execution_count": 74,
   "id": "35496e0a",
   "metadata": {},
   "outputs": [],
   "source": [
    "from sklearn.tree import DecisionTreeClassifier"
   ]
  },
  {
   "cell_type": "code",
   "execution_count": 75,
   "id": "5550c7c2",
   "metadata": {},
   "outputs": [
    {
     "name": "stdout",
     "output_type": "stream",
     "text": [
      "train accuracy 1.0\n",
      "test accuracy 0.753\n"
     ]
    }
   ],
   "source": [
    "dt=DecisionTreeClassifier()\n",
    "dt.fit(x_train,y_train)\n",
    "\n",
    "print(\"train accuracy\",round(dt.score(x_train,y_train),3))\n",
    "print(\"test accuracy\",round(dt.score(x_test,y_test),3))"
   ]
  },
  {
   "cell_type": "code",
   "execution_count": 76,
   "id": "80010224",
   "metadata": {},
   "outputs": [
    {
     "name": "stdout",
     "output_type": "stream",
     "text": [
      "Error in callback <function flush_figures at 0x00000173D0B52A60> (for post_execute):\n"
     ]
    },
    {
     "ename": "KeyboardInterrupt",
     "evalue": "",
     "output_type": "error",
     "traceback": [
      "\u001b[1;31m---------------------------------------------------------------------------\u001b[0m",
      "\u001b[1;31mKeyboardInterrupt\u001b[0m                         Traceback (most recent call last)",
      "File \u001b[1;32m~\\Anaconda3\\lib\\site-packages\\matplotlib_inline\\backend_inline.py:121\u001b[0m, in \u001b[0;36mflush_figures\u001b[1;34m()\u001b[0m\n\u001b[0;32m    118\u001b[0m \u001b[38;5;28;01mif\u001b[39;00m InlineBackend\u001b[38;5;241m.\u001b[39minstance()\u001b[38;5;241m.\u001b[39mclose_figures:\n\u001b[0;32m    119\u001b[0m     \u001b[38;5;66;03m# ignore the tracking, just draw and close all figures\u001b[39;00m\n\u001b[0;32m    120\u001b[0m     \u001b[38;5;28;01mtry\u001b[39;00m:\n\u001b[1;32m--> 121\u001b[0m         \u001b[38;5;28;01mreturn\u001b[39;00m \u001b[43mshow\u001b[49m\u001b[43m(\u001b[49m\u001b[38;5;28;43;01mTrue\u001b[39;49;00m\u001b[43m)\u001b[49m\n\u001b[0;32m    122\u001b[0m     \u001b[38;5;28;01mexcept\u001b[39;00m \u001b[38;5;167;01mException\u001b[39;00m \u001b[38;5;28;01mas\u001b[39;00m e:\n\u001b[0;32m    123\u001b[0m         \u001b[38;5;66;03m# safely show traceback if in IPython, else raise\u001b[39;00m\n\u001b[0;32m    124\u001b[0m         ip \u001b[38;5;241m=\u001b[39m get_ipython()\n",
      "File \u001b[1;32m~\\Anaconda3\\lib\\site-packages\\matplotlib_inline\\backend_inline.py:41\u001b[0m, in \u001b[0;36mshow\u001b[1;34m(close, block)\u001b[0m\n\u001b[0;32m     39\u001b[0m \u001b[38;5;28;01mtry\u001b[39;00m:\n\u001b[0;32m     40\u001b[0m     \u001b[38;5;28;01mfor\u001b[39;00m figure_manager \u001b[38;5;129;01min\u001b[39;00m Gcf\u001b[38;5;241m.\u001b[39mget_all_fig_managers():\n\u001b[1;32m---> 41\u001b[0m         \u001b[43mdisplay\u001b[49m\u001b[43m(\u001b[49m\n\u001b[0;32m     42\u001b[0m \u001b[43m            \u001b[49m\u001b[43mfigure_manager\u001b[49m\u001b[38;5;241;43m.\u001b[39;49m\u001b[43mcanvas\u001b[49m\u001b[38;5;241;43m.\u001b[39;49m\u001b[43mfigure\u001b[49m\u001b[43m,\u001b[49m\n\u001b[0;32m     43\u001b[0m \u001b[43m            \u001b[49m\u001b[43mmetadata\u001b[49m\u001b[38;5;241;43m=\u001b[39;49m\u001b[43m_fetch_figure_metadata\u001b[49m\u001b[43m(\u001b[49m\u001b[43mfigure_manager\u001b[49m\u001b[38;5;241;43m.\u001b[39;49m\u001b[43mcanvas\u001b[49m\u001b[38;5;241;43m.\u001b[39;49m\u001b[43mfigure\u001b[49m\u001b[43m)\u001b[49m\n\u001b[0;32m     44\u001b[0m \u001b[43m        \u001b[49m\u001b[43m)\u001b[49m\n\u001b[0;32m     45\u001b[0m \u001b[38;5;28;01mfinally\u001b[39;00m:\n\u001b[0;32m     46\u001b[0m     show\u001b[38;5;241m.\u001b[39m_to_draw \u001b[38;5;241m=\u001b[39m []\n",
      "File \u001b[1;32m~\\Anaconda3\\lib\\site-packages\\IPython\\core\\display_functions.py:298\u001b[0m, in \u001b[0;36mdisplay\u001b[1;34m(include, exclude, metadata, transient, display_id, raw, clear, *objs, **kwargs)\u001b[0m\n\u001b[0;32m    296\u001b[0m     publish_display_data(data\u001b[38;5;241m=\u001b[39mobj, metadata\u001b[38;5;241m=\u001b[39mmetadata, \u001b[38;5;241m*\u001b[39m\u001b[38;5;241m*\u001b[39mkwargs)\n\u001b[0;32m    297\u001b[0m \u001b[38;5;28;01melse\u001b[39;00m:\n\u001b[1;32m--> 298\u001b[0m     format_dict, md_dict \u001b[38;5;241m=\u001b[39m \u001b[38;5;28;43mformat\u001b[39;49m\u001b[43m(\u001b[49m\u001b[43mobj\u001b[49m\u001b[43m,\u001b[49m\u001b[43m \u001b[49m\u001b[43minclude\u001b[49m\u001b[38;5;241;43m=\u001b[39;49m\u001b[43minclude\u001b[49m\u001b[43m,\u001b[49m\u001b[43m \u001b[49m\u001b[43mexclude\u001b[49m\u001b[38;5;241;43m=\u001b[39;49m\u001b[43mexclude\u001b[49m\u001b[43m)\u001b[49m\n\u001b[0;32m    299\u001b[0m     \u001b[38;5;28;01mif\u001b[39;00m \u001b[38;5;129;01mnot\u001b[39;00m format_dict:\n\u001b[0;32m    300\u001b[0m         \u001b[38;5;66;03m# nothing to display (e.g. _ipython_display_ took over)\u001b[39;00m\n\u001b[0;32m    301\u001b[0m         \u001b[38;5;28;01mcontinue\u001b[39;00m\n",
      "File \u001b[1;32m~\\Anaconda3\\lib\\site-packages\\IPython\\core\\formatters.py:178\u001b[0m, in \u001b[0;36mDisplayFormatter.format\u001b[1;34m(self, obj, include, exclude)\u001b[0m\n\u001b[0;32m    176\u001b[0m md \u001b[38;5;241m=\u001b[39m \u001b[38;5;28;01mNone\u001b[39;00m\n\u001b[0;32m    177\u001b[0m \u001b[38;5;28;01mtry\u001b[39;00m:\n\u001b[1;32m--> 178\u001b[0m     data \u001b[38;5;241m=\u001b[39m \u001b[43mformatter\u001b[49m\u001b[43m(\u001b[49m\u001b[43mobj\u001b[49m\u001b[43m)\u001b[49m\n\u001b[0;32m    179\u001b[0m \u001b[38;5;28;01mexcept\u001b[39;00m:\n\u001b[0;32m    180\u001b[0m     \u001b[38;5;66;03m# FIXME: log the exception\u001b[39;00m\n\u001b[0;32m    181\u001b[0m     \u001b[38;5;28;01mraise\u001b[39;00m\n",
      "File \u001b[1;32m~\\Anaconda3\\lib\\site-packages\\decorator.py:232\u001b[0m, in \u001b[0;36mdecorate.<locals>.fun\u001b[1;34m(*args, **kw)\u001b[0m\n\u001b[0;32m    230\u001b[0m \u001b[38;5;28;01mif\u001b[39;00m \u001b[38;5;129;01mnot\u001b[39;00m kwsyntax:\n\u001b[0;32m    231\u001b[0m     args, kw \u001b[38;5;241m=\u001b[39m fix(args, kw, sig)\n\u001b[1;32m--> 232\u001b[0m \u001b[38;5;28;01mreturn\u001b[39;00m caller(func, \u001b[38;5;241m*\u001b[39m(extras \u001b[38;5;241m+\u001b[39m args), \u001b[38;5;241m*\u001b[39m\u001b[38;5;241m*\u001b[39mkw)\n",
      "File \u001b[1;32m~\\Anaconda3\\lib\\site-packages\\IPython\\core\\formatters.py:222\u001b[0m, in \u001b[0;36mcatch_format_error\u001b[1;34m(method, self, *args, **kwargs)\u001b[0m\n\u001b[0;32m    220\u001b[0m \u001b[38;5;124;03m\"\"\"show traceback on failed format call\"\"\"\u001b[39;00m\n\u001b[0;32m    221\u001b[0m \u001b[38;5;28;01mtry\u001b[39;00m:\n\u001b[1;32m--> 222\u001b[0m     r \u001b[38;5;241m=\u001b[39m method(\u001b[38;5;28mself\u001b[39m, \u001b[38;5;241m*\u001b[39margs, \u001b[38;5;241m*\u001b[39m\u001b[38;5;241m*\u001b[39mkwargs)\n\u001b[0;32m    223\u001b[0m \u001b[38;5;28;01mexcept\u001b[39;00m \u001b[38;5;167;01mNotImplementedError\u001b[39;00m:\n\u001b[0;32m    224\u001b[0m     \u001b[38;5;66;03m# don't warn on NotImplementedErrors\u001b[39;00m\n\u001b[0;32m    225\u001b[0m     \u001b[38;5;28;01mreturn\u001b[39;00m \u001b[38;5;28mself\u001b[39m\u001b[38;5;241m.\u001b[39m_check_return(\u001b[38;5;28;01mNone\u001b[39;00m, args[\u001b[38;5;241m0\u001b[39m])\n",
      "File \u001b[1;32m~\\Anaconda3\\lib\\site-packages\\IPython\\core\\formatters.py:339\u001b[0m, in \u001b[0;36mBaseFormatter.__call__\u001b[1;34m(self, obj)\u001b[0m\n\u001b[0;32m    337\u001b[0m     \u001b[38;5;28;01mpass\u001b[39;00m\n\u001b[0;32m    338\u001b[0m \u001b[38;5;28;01melse\u001b[39;00m:\n\u001b[1;32m--> 339\u001b[0m     \u001b[38;5;28;01mreturn\u001b[39;00m \u001b[43mprinter\u001b[49m\u001b[43m(\u001b[49m\u001b[43mobj\u001b[49m\u001b[43m)\u001b[49m\n\u001b[0;32m    340\u001b[0m \u001b[38;5;66;03m# Finally look for special method names\u001b[39;00m\n\u001b[0;32m    341\u001b[0m method \u001b[38;5;241m=\u001b[39m get_real_method(obj, \u001b[38;5;28mself\u001b[39m\u001b[38;5;241m.\u001b[39mprint_method)\n",
      "File \u001b[1;32m~\\Anaconda3\\lib\\site-packages\\IPython\\core\\pylabtools.py:151\u001b[0m, in \u001b[0;36mprint_figure\u001b[1;34m(fig, fmt, bbox_inches, base64, **kwargs)\u001b[0m\n\u001b[0;32m    148\u001b[0m     \u001b[38;5;28;01mfrom\u001b[39;00m \u001b[38;5;21;01mmatplotlib\u001b[39;00m\u001b[38;5;21;01m.\u001b[39;00m\u001b[38;5;21;01mbackend_bases\u001b[39;00m \u001b[38;5;28;01mimport\u001b[39;00m FigureCanvasBase\n\u001b[0;32m    149\u001b[0m     FigureCanvasBase(fig)\n\u001b[1;32m--> 151\u001b[0m fig\u001b[38;5;241m.\u001b[39mcanvas\u001b[38;5;241m.\u001b[39mprint_figure(bytes_io, \u001b[38;5;241m*\u001b[39m\u001b[38;5;241m*\u001b[39mkw)\n\u001b[0;32m    152\u001b[0m data \u001b[38;5;241m=\u001b[39m bytes_io\u001b[38;5;241m.\u001b[39mgetvalue()\n\u001b[0;32m    153\u001b[0m \u001b[38;5;28;01mif\u001b[39;00m fmt \u001b[38;5;241m==\u001b[39m \u001b[38;5;124m'\u001b[39m\u001b[38;5;124msvg\u001b[39m\u001b[38;5;124m'\u001b[39m:\n",
      "File \u001b[1;32m~\\Anaconda3\\lib\\site-packages\\matplotlib\\backend_bases.py:2295\u001b[0m, in \u001b[0;36mFigureCanvasBase.print_figure\u001b[1;34m(self, filename, dpi, facecolor, edgecolor, orientation, format, bbox_inches, pad_inches, bbox_extra_artists, backend, **kwargs)\u001b[0m\n\u001b[0;32m   2289\u001b[0m     renderer \u001b[38;5;241m=\u001b[39m _get_renderer(\n\u001b[0;32m   2290\u001b[0m         \u001b[38;5;28mself\u001b[39m\u001b[38;5;241m.\u001b[39mfigure,\n\u001b[0;32m   2291\u001b[0m         functools\u001b[38;5;241m.\u001b[39mpartial(\n\u001b[0;32m   2292\u001b[0m             print_method, orientation\u001b[38;5;241m=\u001b[39morientation)\n\u001b[0;32m   2293\u001b[0m     )\n\u001b[0;32m   2294\u001b[0m     \u001b[38;5;28;01mwith\u001b[39;00m \u001b[38;5;28mgetattr\u001b[39m(renderer, \u001b[38;5;124m\"\u001b[39m\u001b[38;5;124m_draw_disabled\u001b[39m\u001b[38;5;124m\"\u001b[39m, nullcontext)():\n\u001b[1;32m-> 2295\u001b[0m         \u001b[38;5;28;43mself\u001b[39;49m\u001b[38;5;241;43m.\u001b[39;49m\u001b[43mfigure\u001b[49m\u001b[38;5;241;43m.\u001b[39;49m\u001b[43mdraw\u001b[49m\u001b[43m(\u001b[49m\u001b[43mrenderer\u001b[49m\u001b[43m)\u001b[49m\n\u001b[0;32m   2297\u001b[0m \u001b[38;5;28;01mif\u001b[39;00m bbox_inches:\n\u001b[0;32m   2298\u001b[0m     \u001b[38;5;28;01mif\u001b[39;00m bbox_inches \u001b[38;5;241m==\u001b[39m \u001b[38;5;124m\"\u001b[39m\u001b[38;5;124mtight\u001b[39m\u001b[38;5;124m\"\u001b[39m:\n",
      "File \u001b[1;32m~\\Anaconda3\\lib\\site-packages\\matplotlib\\artist.py:73\u001b[0m, in \u001b[0;36m_finalize_rasterization.<locals>.draw_wrapper\u001b[1;34m(artist, renderer, *args, **kwargs)\u001b[0m\n\u001b[0;32m     71\u001b[0m \u001b[38;5;129m@wraps\u001b[39m(draw)\n\u001b[0;32m     72\u001b[0m \u001b[38;5;28;01mdef\u001b[39;00m \u001b[38;5;21mdraw_wrapper\u001b[39m(artist, renderer, \u001b[38;5;241m*\u001b[39margs, \u001b[38;5;241m*\u001b[39m\u001b[38;5;241m*\u001b[39mkwargs):\n\u001b[1;32m---> 73\u001b[0m     result \u001b[38;5;241m=\u001b[39m draw(artist, renderer, \u001b[38;5;241m*\u001b[39margs, \u001b[38;5;241m*\u001b[39m\u001b[38;5;241m*\u001b[39mkwargs)\n\u001b[0;32m     74\u001b[0m     \u001b[38;5;28;01mif\u001b[39;00m renderer\u001b[38;5;241m.\u001b[39m_rasterizing:\n\u001b[0;32m     75\u001b[0m         renderer\u001b[38;5;241m.\u001b[39mstop_rasterizing()\n",
      "File \u001b[1;32m~\\Anaconda3\\lib\\site-packages\\matplotlib\\artist.py:50\u001b[0m, in \u001b[0;36mallow_rasterization.<locals>.draw_wrapper\u001b[1;34m(artist, renderer)\u001b[0m\n\u001b[0;32m     47\u001b[0m     \u001b[38;5;28;01mif\u001b[39;00m artist\u001b[38;5;241m.\u001b[39mget_agg_filter() \u001b[38;5;129;01mis\u001b[39;00m \u001b[38;5;129;01mnot\u001b[39;00m \u001b[38;5;28;01mNone\u001b[39;00m:\n\u001b[0;32m     48\u001b[0m         renderer\u001b[38;5;241m.\u001b[39mstart_filter()\n\u001b[1;32m---> 50\u001b[0m     \u001b[38;5;28;01mreturn\u001b[39;00m \u001b[43mdraw\u001b[49m\u001b[43m(\u001b[49m\u001b[43martist\u001b[49m\u001b[43m,\u001b[49m\u001b[43m \u001b[49m\u001b[43mrenderer\u001b[49m\u001b[43m)\u001b[49m\n\u001b[0;32m     51\u001b[0m \u001b[38;5;28;01mfinally\u001b[39;00m:\n\u001b[0;32m     52\u001b[0m     \u001b[38;5;28;01mif\u001b[39;00m artist\u001b[38;5;241m.\u001b[39mget_agg_filter() \u001b[38;5;129;01mis\u001b[39;00m \u001b[38;5;129;01mnot\u001b[39;00m \u001b[38;5;28;01mNone\u001b[39;00m:\n",
      "File \u001b[1;32m~\\Anaconda3\\lib\\site-packages\\matplotlib\\figure.py:2810\u001b[0m, in \u001b[0;36mFigure.draw\u001b[1;34m(self, renderer)\u001b[0m\n\u001b[0;32m   2807\u001b[0m         \u001b[38;5;66;03m# ValueError can occur when resizing a window.\u001b[39;00m\n\u001b[0;32m   2809\u001b[0m \u001b[38;5;28mself\u001b[39m\u001b[38;5;241m.\u001b[39mpatch\u001b[38;5;241m.\u001b[39mdraw(renderer)\n\u001b[1;32m-> 2810\u001b[0m \u001b[43mmimage\u001b[49m\u001b[38;5;241;43m.\u001b[39;49m\u001b[43m_draw_list_compositing_images\u001b[49m\u001b[43m(\u001b[49m\n\u001b[0;32m   2811\u001b[0m \u001b[43m    \u001b[49m\u001b[43mrenderer\u001b[49m\u001b[43m,\u001b[49m\u001b[43m \u001b[49m\u001b[38;5;28;43mself\u001b[39;49m\u001b[43m,\u001b[49m\u001b[43m \u001b[49m\u001b[43martists\u001b[49m\u001b[43m,\u001b[49m\u001b[43m \u001b[49m\u001b[38;5;28;43mself\u001b[39;49m\u001b[38;5;241;43m.\u001b[39;49m\u001b[43msuppressComposite\u001b[49m\u001b[43m)\u001b[49m\n\u001b[0;32m   2813\u001b[0m \u001b[38;5;28;01mfor\u001b[39;00m sfig \u001b[38;5;129;01min\u001b[39;00m \u001b[38;5;28mself\u001b[39m\u001b[38;5;241m.\u001b[39msubfigs:\n\u001b[0;32m   2814\u001b[0m     sfig\u001b[38;5;241m.\u001b[39mdraw(renderer)\n",
      "File \u001b[1;32m~\\Anaconda3\\lib\\site-packages\\matplotlib\\image.py:132\u001b[0m, in \u001b[0;36m_draw_list_compositing_images\u001b[1;34m(renderer, parent, artists, suppress_composite)\u001b[0m\n\u001b[0;32m    130\u001b[0m \u001b[38;5;28;01mif\u001b[39;00m not_composite \u001b[38;5;129;01mor\u001b[39;00m \u001b[38;5;129;01mnot\u001b[39;00m has_images:\n\u001b[0;32m    131\u001b[0m     \u001b[38;5;28;01mfor\u001b[39;00m a \u001b[38;5;129;01min\u001b[39;00m artists:\n\u001b[1;32m--> 132\u001b[0m         \u001b[43ma\u001b[49m\u001b[38;5;241;43m.\u001b[39;49m\u001b[43mdraw\u001b[49m\u001b[43m(\u001b[49m\u001b[43mrenderer\u001b[49m\u001b[43m)\u001b[49m\n\u001b[0;32m    133\u001b[0m \u001b[38;5;28;01melse\u001b[39;00m:\n\u001b[0;32m    134\u001b[0m     \u001b[38;5;66;03m# Composite any adjacent images together\u001b[39;00m\n\u001b[0;32m    135\u001b[0m     image_group \u001b[38;5;241m=\u001b[39m []\n",
      "File \u001b[1;32m~\\Anaconda3\\lib\\site-packages\\matplotlib\\artist.py:50\u001b[0m, in \u001b[0;36mallow_rasterization.<locals>.draw_wrapper\u001b[1;34m(artist, renderer)\u001b[0m\n\u001b[0;32m     47\u001b[0m     \u001b[38;5;28;01mif\u001b[39;00m artist\u001b[38;5;241m.\u001b[39mget_agg_filter() \u001b[38;5;129;01mis\u001b[39;00m \u001b[38;5;129;01mnot\u001b[39;00m \u001b[38;5;28;01mNone\u001b[39;00m:\n\u001b[0;32m     48\u001b[0m         renderer\u001b[38;5;241m.\u001b[39mstart_filter()\n\u001b[1;32m---> 50\u001b[0m     \u001b[38;5;28;01mreturn\u001b[39;00m \u001b[43mdraw\u001b[49m\u001b[43m(\u001b[49m\u001b[43martist\u001b[49m\u001b[43m,\u001b[49m\u001b[43m \u001b[49m\u001b[43mrenderer\u001b[49m\u001b[43m)\u001b[49m\n\u001b[0;32m     51\u001b[0m \u001b[38;5;28;01mfinally\u001b[39;00m:\n\u001b[0;32m     52\u001b[0m     \u001b[38;5;28;01mif\u001b[39;00m artist\u001b[38;5;241m.\u001b[39mget_agg_filter() \u001b[38;5;129;01mis\u001b[39;00m \u001b[38;5;129;01mnot\u001b[39;00m \u001b[38;5;28;01mNone\u001b[39;00m:\n",
      "File \u001b[1;32m~\\Anaconda3\\lib\\site-packages\\matplotlib\\axes\\_base.py:3082\u001b[0m, in \u001b[0;36m_AxesBase.draw\u001b[1;34m(self, renderer)\u001b[0m\n\u001b[0;32m   3079\u001b[0m         a\u001b[38;5;241m.\u001b[39mdraw(renderer)\n\u001b[0;32m   3080\u001b[0m     renderer\u001b[38;5;241m.\u001b[39mstop_rasterizing()\n\u001b[1;32m-> 3082\u001b[0m \u001b[43mmimage\u001b[49m\u001b[38;5;241;43m.\u001b[39;49m\u001b[43m_draw_list_compositing_images\u001b[49m\u001b[43m(\u001b[49m\n\u001b[0;32m   3083\u001b[0m \u001b[43m    \u001b[49m\u001b[43mrenderer\u001b[49m\u001b[43m,\u001b[49m\u001b[43m \u001b[49m\u001b[38;5;28;43mself\u001b[39;49m\u001b[43m,\u001b[49m\u001b[43m \u001b[49m\u001b[43martists\u001b[49m\u001b[43m,\u001b[49m\u001b[43m \u001b[49m\u001b[38;5;28;43mself\u001b[39;49m\u001b[38;5;241;43m.\u001b[39;49m\u001b[43mfigure\u001b[49m\u001b[38;5;241;43m.\u001b[39;49m\u001b[43msuppressComposite\u001b[49m\u001b[43m)\u001b[49m\n\u001b[0;32m   3085\u001b[0m renderer\u001b[38;5;241m.\u001b[39mclose_group(\u001b[38;5;124m'\u001b[39m\u001b[38;5;124maxes\u001b[39m\u001b[38;5;124m'\u001b[39m)\n\u001b[0;32m   3086\u001b[0m \u001b[38;5;28mself\u001b[39m\u001b[38;5;241m.\u001b[39mstale \u001b[38;5;241m=\u001b[39m \u001b[38;5;28;01mFalse\u001b[39;00m\n",
      "File \u001b[1;32m~\\Anaconda3\\lib\\site-packages\\matplotlib\\image.py:132\u001b[0m, in \u001b[0;36m_draw_list_compositing_images\u001b[1;34m(renderer, parent, artists, suppress_composite)\u001b[0m\n\u001b[0;32m    130\u001b[0m \u001b[38;5;28;01mif\u001b[39;00m not_composite \u001b[38;5;129;01mor\u001b[39;00m \u001b[38;5;129;01mnot\u001b[39;00m has_images:\n\u001b[0;32m    131\u001b[0m     \u001b[38;5;28;01mfor\u001b[39;00m a \u001b[38;5;129;01min\u001b[39;00m artists:\n\u001b[1;32m--> 132\u001b[0m         \u001b[43ma\u001b[49m\u001b[38;5;241;43m.\u001b[39;49m\u001b[43mdraw\u001b[49m\u001b[43m(\u001b[49m\u001b[43mrenderer\u001b[49m\u001b[43m)\u001b[49m\n\u001b[0;32m    133\u001b[0m \u001b[38;5;28;01melse\u001b[39;00m:\n\u001b[0;32m    134\u001b[0m     \u001b[38;5;66;03m# Composite any adjacent images together\u001b[39;00m\n\u001b[0;32m    135\u001b[0m     image_group \u001b[38;5;241m=\u001b[39m []\n",
      "File \u001b[1;32m~\\Anaconda3\\lib\\site-packages\\matplotlib\\artist.py:50\u001b[0m, in \u001b[0;36mallow_rasterization.<locals>.draw_wrapper\u001b[1;34m(artist, renderer)\u001b[0m\n\u001b[0;32m     47\u001b[0m     \u001b[38;5;28;01mif\u001b[39;00m artist\u001b[38;5;241m.\u001b[39mget_agg_filter() \u001b[38;5;129;01mis\u001b[39;00m \u001b[38;5;129;01mnot\u001b[39;00m \u001b[38;5;28;01mNone\u001b[39;00m:\n\u001b[0;32m     48\u001b[0m         renderer\u001b[38;5;241m.\u001b[39mstart_filter()\n\u001b[1;32m---> 50\u001b[0m     \u001b[38;5;28;01mreturn\u001b[39;00m \u001b[43mdraw\u001b[49m\u001b[43m(\u001b[49m\u001b[43martist\u001b[49m\u001b[43m,\u001b[49m\u001b[43m \u001b[49m\u001b[43mrenderer\u001b[49m\u001b[43m)\u001b[49m\n\u001b[0;32m     51\u001b[0m \u001b[38;5;28;01mfinally\u001b[39;00m:\n\u001b[0;32m     52\u001b[0m     \u001b[38;5;28;01mif\u001b[39;00m artist\u001b[38;5;241m.\u001b[39mget_agg_filter() \u001b[38;5;129;01mis\u001b[39;00m \u001b[38;5;129;01mnot\u001b[39;00m \u001b[38;5;28;01mNone\u001b[39;00m:\n",
      "File \u001b[1;32m~\\Anaconda3\\lib\\site-packages\\matplotlib\\text.py:1973\u001b[0m, in \u001b[0;36mAnnotation.draw\u001b[1;34m(self, renderer)\u001b[0m\n\u001b[0;32m   1970\u001b[0m     \u001b[38;5;28;01mreturn\u001b[39;00m\n\u001b[0;32m   1971\u001b[0m \u001b[38;5;66;03m# Update text positions before `Text.draw` would, so that the\u001b[39;00m\n\u001b[0;32m   1972\u001b[0m \u001b[38;5;66;03m# FancyArrowPatch is correctly positioned.\u001b[39;00m\n\u001b[1;32m-> 1973\u001b[0m \u001b[38;5;28;43mself\u001b[39;49m\u001b[38;5;241;43m.\u001b[39;49m\u001b[43mupdate_positions\u001b[49m\u001b[43m(\u001b[49m\u001b[43mrenderer\u001b[49m\u001b[43m)\u001b[49m\n\u001b[0;32m   1974\u001b[0m \u001b[38;5;28mself\u001b[39m\u001b[38;5;241m.\u001b[39mupdate_bbox_position_size(renderer)\n\u001b[0;32m   1975\u001b[0m \u001b[38;5;28;01mif\u001b[39;00m \u001b[38;5;28mself\u001b[39m\u001b[38;5;241m.\u001b[39marrow_patch \u001b[38;5;129;01mis\u001b[39;00m \u001b[38;5;129;01mnot\u001b[39;00m \u001b[38;5;28;01mNone\u001b[39;00m:   \u001b[38;5;66;03m# FancyArrowPatch\u001b[39;00m\n",
      "File \u001b[1;32m~\\Anaconda3\\lib\\site-packages\\matplotlib\\text.py:1900\u001b[0m, in \u001b[0;36mAnnotation.update_positions\u001b[1;34m(self, renderer)\u001b[0m\n\u001b[0;32m   1897\u001b[0m \u001b[38;5;28;01mif\u001b[39;00m \u001b[38;5;28mself\u001b[39m\u001b[38;5;241m.\u001b[39marrowprops \u001b[38;5;129;01mis\u001b[39;00m \u001b[38;5;28;01mNone\u001b[39;00m:\n\u001b[0;32m   1898\u001b[0m     \u001b[38;5;28;01mreturn\u001b[39;00m\n\u001b[1;32m-> 1900\u001b[0m bbox \u001b[38;5;241m=\u001b[39m \u001b[43mText\u001b[49m\u001b[38;5;241;43m.\u001b[39;49m\u001b[43mget_window_extent\u001b[49m\u001b[43m(\u001b[49m\u001b[38;5;28;43mself\u001b[39;49m\u001b[43m,\u001b[49m\u001b[43m \u001b[49m\u001b[43mrenderer\u001b[49m\u001b[43m)\u001b[49m\n\u001b[0;32m   1902\u001b[0m d \u001b[38;5;241m=\u001b[39m \u001b[38;5;28mself\u001b[39m\u001b[38;5;241m.\u001b[39marrowprops\u001b[38;5;241m.\u001b[39mcopy()\n\u001b[0;32m   1903\u001b[0m ms \u001b[38;5;241m=\u001b[39m d\u001b[38;5;241m.\u001b[39mpop(\u001b[38;5;124m\"\u001b[39m\u001b[38;5;124mmutation_scale\u001b[39m\u001b[38;5;124m\"\u001b[39m, \u001b[38;5;28mself\u001b[39m\u001b[38;5;241m.\u001b[39mget_size())\n",
      "File \u001b[1;32m~\\Anaconda3\\lib\\site-packages\\matplotlib\\text.py:910\u001b[0m, in \u001b[0;36mText.get_window_extent\u001b[1;34m(self, renderer, dpi)\u001b[0m\n\u001b[0;32m    907\u001b[0m     \u001b[38;5;28;01mraise\u001b[39;00m \u001b[38;5;167;01mRuntimeError\u001b[39;00m(\u001b[38;5;124m'\u001b[39m\u001b[38;5;124mCannot get window extent w/o renderer\u001b[39m\u001b[38;5;124m'\u001b[39m)\n\u001b[0;32m    909\u001b[0m \u001b[38;5;28;01mwith\u001b[39;00m cbook\u001b[38;5;241m.\u001b[39m_setattr_cm(\u001b[38;5;28mself\u001b[39m\u001b[38;5;241m.\u001b[39mfigure, dpi\u001b[38;5;241m=\u001b[39mdpi):\n\u001b[1;32m--> 910\u001b[0m     bbox, info, descent \u001b[38;5;241m=\u001b[39m \u001b[38;5;28;43mself\u001b[39;49m\u001b[38;5;241;43m.\u001b[39;49m\u001b[43m_get_layout\u001b[49m\u001b[43m(\u001b[49m\u001b[38;5;28;43mself\u001b[39;49m\u001b[38;5;241;43m.\u001b[39;49m\u001b[43m_renderer\u001b[49m\u001b[43m)\u001b[49m\n\u001b[0;32m    911\u001b[0m     x, y \u001b[38;5;241m=\u001b[39m \u001b[38;5;28mself\u001b[39m\u001b[38;5;241m.\u001b[39mget_unitless_position()\n\u001b[0;32m    912\u001b[0m     x, y \u001b[38;5;241m=\u001b[39m \u001b[38;5;28mself\u001b[39m\u001b[38;5;241m.\u001b[39mget_transform()\u001b[38;5;241m.\u001b[39mtransform((x, y))\n",
      "File \u001b[1;32m~\\Anaconda3\\lib\\site-packages\\matplotlib\\text.py:317\u001b[0m, in \u001b[0;36mText._get_layout\u001b[1;34m(self, renderer)\u001b[0m\n\u001b[0;32m    315\u001b[0m clean_line, ismath \u001b[38;5;241m=\u001b[39m \u001b[38;5;28mself\u001b[39m\u001b[38;5;241m.\u001b[39m_preprocess_math(line)\n\u001b[0;32m    316\u001b[0m \u001b[38;5;28;01mif\u001b[39;00m clean_line:\n\u001b[1;32m--> 317\u001b[0m     w, h, d \u001b[38;5;241m=\u001b[39m \u001b[43mrenderer\u001b[49m\u001b[38;5;241;43m.\u001b[39;49m\u001b[43mget_text_width_height_descent\u001b[49m\u001b[43m(\u001b[49m\n\u001b[0;32m    318\u001b[0m \u001b[43m        \u001b[49m\u001b[43mclean_line\u001b[49m\u001b[43m,\u001b[49m\u001b[43m \u001b[49m\u001b[38;5;28;43mself\u001b[39;49m\u001b[38;5;241;43m.\u001b[39;49m\u001b[43m_fontproperties\u001b[49m\u001b[43m,\u001b[49m\u001b[43m \u001b[49m\u001b[43mismath\u001b[49m\u001b[38;5;241;43m=\u001b[39;49m\u001b[43mismath\u001b[49m\u001b[43m)\u001b[49m\n\u001b[0;32m    319\u001b[0m \u001b[38;5;28;01melse\u001b[39;00m:\n\u001b[0;32m    320\u001b[0m     w \u001b[38;5;241m=\u001b[39m h \u001b[38;5;241m=\u001b[39m d \u001b[38;5;241m=\u001b[39m \u001b[38;5;241m0\u001b[39m\n",
      "File \u001b[1;32m~\\Anaconda3\\lib\\site-packages\\matplotlib\\backends\\backend_agg.py:270\u001b[0m, in \u001b[0;36mRendererAgg.get_text_width_height_descent\u001b[1;34m(self, s, prop, ismath)\u001b[0m\n\u001b[0;32m    268\u001b[0m flags \u001b[38;5;241m=\u001b[39m get_hinting_flag()\n\u001b[0;32m    269\u001b[0m font \u001b[38;5;241m=\u001b[39m \u001b[38;5;28mself\u001b[39m\u001b[38;5;241m.\u001b[39m_get_agg_font(prop)\n\u001b[1;32m--> 270\u001b[0m \u001b[43mfont\u001b[49m\u001b[38;5;241;43m.\u001b[39;49m\u001b[43mset_text\u001b[49m\u001b[43m(\u001b[49m\u001b[43ms\u001b[49m\u001b[43m,\u001b[49m\u001b[43m \u001b[49m\u001b[38;5;241;43m0.0\u001b[39;49m\u001b[43m,\u001b[49m\u001b[43m \u001b[49m\u001b[43mflags\u001b[49m\u001b[38;5;241;43m=\u001b[39;49m\u001b[43mflags\u001b[49m\u001b[43m)\u001b[49m\n\u001b[0;32m    271\u001b[0m w, h \u001b[38;5;241m=\u001b[39m font\u001b[38;5;241m.\u001b[39mget_width_height()  \u001b[38;5;66;03m# width and height of unrotated string\u001b[39;00m\n\u001b[0;32m    272\u001b[0m d \u001b[38;5;241m=\u001b[39m font\u001b[38;5;241m.\u001b[39mget_descent()\n",
      "\u001b[1;31mKeyboardInterrupt\u001b[0m: "
     ]
    }
   ],
   "source": [
    "from sklearn.tree import plot_tree\n",
    "fn=x_train.columns\n",
    "cn=[\"yes\",\"no\"]\n",
    "\n",
    "# setting dpi = 300 to make image clearer than default\n",
    "fig, axes = plt.subplots(nrows=1,ncols=1, figsize=(5,5), dpi=500)\n",
    "\n",
    "dt_plot=plot_tree(dt,\n",
    "            feature_names= fn,\n",
    "            class_names=cn,\n",
    "            filled=True);"
   ]
  },
  {
   "cell_type": "markdown",
   "id": "aa1d60ab",
   "metadata": {},
   "source": [
    "***\n",
    "* our model is overfitting as train results are farbetter that test\n",
    "* to avoid overfitting: \n",
    "           * make model simple(control the parameters)\n",
    "           * cross validation"
   ]
  },
  {
   "cell_type": "code",
   "execution_count": 77,
   "id": "ca5b56fb",
   "metadata": {},
   "outputs": [
    {
     "name": "stdout",
     "output_type": "stream",
     "text": [
      "train accuracy 0.812\n",
      "test accuracy 0.799\n"
     ]
    }
   ],
   "source": [
    "dt1=DecisionTreeClassifier(max_depth=6)\n",
    "dt1.fit(x_train,y_train)\n",
    "\n",
    "print(\"train accuracy\",round(dt1.score(x_train,y_train),3))\n",
    "print(\"test accuracy\",round(dt1.score(x_test,y_test),3))"
   ]
  },
  {
   "cell_type": "code",
   "execution_count": 78,
   "id": "7729da05",
   "metadata": {},
   "outputs": [
    {
     "name": "stdout",
     "output_type": "stream",
     "text": [
      "train accuracy :83.8%\n",
      "test accuracy :81.0%\n"
     ]
    }
   ],
   "source": [
    "dt1=DecisionTreeClassifier(min_samples_split=150)\n",
    "dt1.fit(x_train,y_train)\n",
    "\n",
    "print(\"train accuracy :\"+str(round(dt1.score(x_train,y_train),3)*100)+str('%'))\n",
    "print(\"test accuracy :\"+str(round(dt1.score(x_test,y_test),3)*100)+str('%'))"
   ]
  },
  {
   "cell_type": "code",
   "execution_count": 79,
   "id": "5d5b61b7",
   "metadata": {},
   "outputs": [
    {
     "name": "stdout",
     "output_type": "stream",
     "text": [
      "train accuracy :82.89999999999999%\n",
      "test accuracy :81.10000000000001%\n"
     ]
    }
   ],
   "source": [
    "dt1=DecisionTreeClassifier(min_samples_leaf=50)\n",
    "dt1.fit(x_train,y_train)\n",
    "\n",
    "print(\"train accuracy :\"+str(round(dt1.score(x_train,y_train),3)*100)+str('%'))\n",
    "print(\"test accuracy :\"+str(round(dt1.score(x_test,y_test),3)*100)+str('%'))"
   ]
  },
  {
   "cell_type": "code",
   "execution_count": 80,
   "id": "20424652",
   "metadata": {},
   "outputs": [
    {
     "name": "stdout",
     "output_type": "stream",
     "text": [
      "train accuracy :100.0%\n",
      "test accuracy :76.5%\n"
     ]
    }
   ],
   "source": [
    "dt1=DecisionTreeClassifier(criterion=\"entropy\")\n",
    "dt1.fit(x_train,y_train)\n",
    "\n",
    "print(\"train accuracy :\"+str(round(dt1.score(x_train,y_train),3)*100)+str('%'))\n",
    "print(\"test accuracy :\"+str(round(dt1.score(x_test,y_test),3)*100)+str('%'))"
   ]
  },
  {
   "cell_type": "code",
   "execution_count": 81,
   "id": "d8306592",
   "metadata": {},
   "outputs": [
    {
     "name": "stdout",
     "output_type": "stream",
     "text": [
      "train accuracy :100.0%\n",
      "test accuracy :75.3%\n"
     ]
    }
   ],
   "source": [
    "dt1=DecisionTreeClassifier(criterion=\"gini\")\n",
    "dt1.fit(x_train,y_train)\n",
    "\n",
    "print(\"train accuracy :\"+str(round(dt1.score(x_train,y_train),3)*100)+str('%'))\n",
    "print(\"test accuracy :\"+str(round(dt1.score(x_test,y_test),3)*100)+str('%'))"
   ]
  },
  {
   "cell_type": "markdown",
   "id": "37018c73",
   "metadata": {},
   "source": [
    "### grid search : parameter tunning"
   ]
  },
  {
   "cell_type": "code",
   "execution_count": 82,
   "id": "90a09e73",
   "metadata": {},
   "outputs": [],
   "source": [
    "criterion=[\"gini\",\"entropy\"]\n",
    "max_depth=range(5,20,2)\n",
    "min_sample_split=[10,15,20,50,100,200,250]\n",
    "min_sample_leaf=[5,10,15,20,50,80,100]"
   ]
  },
  {
   "cell_type": "code",
   "execution_count": 83,
   "id": "065c7b11",
   "metadata": {},
   "outputs": [
    {
     "data": {
      "text/plain": [
       "784"
      ]
     },
     "execution_count": 83,
     "metadata": {},
     "output_type": "execute_result"
    }
   ],
   "source": [
    "2*8*7*7"
   ]
  },
  {
   "cell_type": "code",
   "execution_count": 84,
   "id": "a89a861f",
   "metadata": {},
   "outputs": [
    {
     "ename": "SyntaxError",
     "evalue": "invalid syntax (1629821412.py, line 1)",
     "output_type": "error",
     "traceback": [
      "\u001b[1;36m  Input \u001b[1;32mIn [84]\u001b[1;36m\u001b[0m\n\u001b[1;33m    iter criterian  depth  split   leaf  Accuracy\u001b[0m\n\u001b[1;37m         ^\u001b[0m\n\u001b[1;31mSyntaxError\u001b[0m\u001b[1;31m:\u001b[0m invalid syntax\n"
     ]
    }
   ],
   "source": [
    "iter criterian  depth  split   leaf  Accuracy\n",
    "0      gini       5      10      5     65%\n",
    "1      gini       5      10      10    64%\n",
    "2      gini       5      10      15    67%\n",
    "3      gini       5      10      20    58%\n",
    "4      gini       5      10      50    59%\n",
    "5      gini       5      10      80    68%"
   ]
  },
  {
   "cell_type": "code",
   "execution_count": null,
   "id": "b81d893d",
   "metadata": {},
   "outputs": [],
   "source": [
    "from sklearn.model_selection import GridSearchCV\n",
    "\n",
    "params={\n",
    "    \"criterion\":[\"gini\",\"entropy\"],\n",
    "\"max_depth\":[5,7,9,10,11],\n",
    "\"min_samples_split\":[10,15,20,50,100,200,250],\n",
    "\"min_samples_leaf\":[5,10,15,20,50,80,100]}\n",
    "\n",
    "dtg=DecisionTreeClassifier()\n",
    "\n",
    "gd_search=GridSearchCV(estimator=dtg,param_grid=params, cv=10, n_jobs=-1, verbose=2)\n",
    "\n",
    "gd_search.fit(x_train,y_train)"
   ]
  },
  {
   "cell_type": "code",
   "execution_count": null,
   "id": "4c72c1b0",
   "metadata": {},
   "outputs": [],
   "source": [
    "# cv=cross validation=10\n",
    "# 10000= 1000*10"
   ]
  },
  {
   "cell_type": "code",
   "execution_count": null,
   "id": "b10a99a4",
   "metadata": {},
   "outputs": [],
   "source": [
    "gd_search.best_params_"
   ]
  },
  {
   "cell_type": "code",
   "execution_count": null,
   "id": "cf9a49d2",
   "metadata": {},
   "outputs": [],
   "source": [
    "gd_search.best_score_"
   ]
  },
  {
   "cell_type": "code",
   "execution_count": null,
   "id": "7f8fd21b",
   "metadata": {},
   "outputs": [],
   "source": [
    "gd_search.best_estimator_"
   ]
  },
  {
   "cell_type": "code",
   "execution_count": null,
   "id": "7e6c6169",
   "metadata": {},
   "outputs": [],
   "source": [
    "# pd.DataFrame(gd_search.cv_results_)"
   ]
  },
  {
   "cell_type": "code",
   "execution_count": null,
   "id": "a6290ad0",
   "metadata": {},
   "outputs": [],
   "source": [
    "dt_f=DecisionTreeClassifier(criterion='entropy', max_depth=11, min_samples_leaf=10,\n",
    "                       min_samples_split=100)\n",
    "dt_f.fit(x_train,y_train)"
   ]
  },
  {
   "cell_type": "code",
   "execution_count": null,
   "id": "0fae1b34",
   "metadata": {},
   "outputs": [],
   "source": [
    "print(\"train accuracy :\"+str(round(dt_f.score(x_train,y_train),3)*100)+str('%'))\n",
    "print(\"test accuracy :\"+str(round(dt_f.score(x_test,y_test),3)*100)+str('%'))"
   ]
  },
  {
   "cell_type": "code",
   "execution_count": null,
   "id": "edb5491f",
   "metadata": {},
   "outputs": [],
   "source": [
    "from sklearn.tree import plot_tree\n",
    "fn=x_train.columns\n",
    "cn=[\"yes\",\"no\"]\n",
    "\n",
    "# setting dpi = 300 to make image clearer than default\n",
    "fig, axes = plt.subplots(nrows=1,ncols=1, figsize=(5,5), dpi=500)\n",
    "\n",
    "dt_plot=plot_tree(dt_f,\n",
    "            feature_names= fn,\n",
    "            class_names=cn,\n",
    "            filled=True);"
   ]
  },
  {
   "cell_type": "code",
   "execution_count": null,
   "id": "d02e8b83",
   "metadata": {},
   "outputs": [],
   "source": [
    "from sklearn.tree import export_text\n",
    "rules=export_text(dt_f, feature_names=x_train.columns.to_list())\n",
    "print(rules)"
   ]
  },
  {
   "cell_type": "markdown",
   "id": "8b2f5849",
   "metadata": {},
   "source": [
    "### feature importance"
   ]
  },
  {
   "cell_type": "code",
   "execution_count": null,
   "id": "3c2b3ba6",
   "metadata": {},
   "outputs": [],
   "source": [
    "dt_f.feature_importances_"
   ]
  },
  {
   "cell_type": "code",
   "execution_count": null,
   "id": "c091f086",
   "metadata": {},
   "outputs": [],
   "source": [
    "feat_imp=pd.DataFrame({\"variable\":x_train.columns,\n",
    "             \"imp\":dt_f.feature_importances_}).sort_values(by=\"imp\", ascending=False)"
   ]
  },
  {
   "cell_type": "code",
   "execution_count": null,
   "id": "171ff068",
   "metadata": {},
   "outputs": [],
   "source": [
    "feat_imp"
   ]
  },
  {
   "cell_type": "code",
   "execution_count": null,
   "id": "280cea2d",
   "metadata": {},
   "outputs": [],
   "source": [
    "plt.figure(figsize=(15,5))\n",
    "sns.barplot(data=feat_imp.head(10),x=\"variable\",y=\"imp\")"
   ]
  },
  {
   "cell_type": "code",
   "execution_count": null,
   "id": "8d1aa664",
   "metadata": {},
   "outputs": [],
   "source": [
    "feat_imp[feat_imp[\"imp\"]>=.01][\"variable\"].unique()"
   ]
  },
  {
   "cell_type": "code",
   "execution_count": null,
   "id": "712c7fdd",
   "metadata": {},
   "outputs": [],
   "source": [
    "x_train1=x_train[['duration', 'poutcome_success', 'housing_yes', 'balance', 'age',\n",
    "       'month_may', 'month_mar', 'campaign', 'previous', 'month_oct',\n",
    "       'loan_yes', 'month_jul', 'recent_pdays']]\n",
    "\n",
    "x_test1=x_test[['duration', 'poutcome_success', 'housing_yes', 'balance', 'age',\n",
    "       'month_may', 'month_mar', 'campaign', 'previous', 'month_oct',\n",
    "       'loan_yes', 'month_jul', 'recent_pdays']]"
   ]
  },
  {
   "cell_type": "code",
   "execution_count": null,
   "id": "14fc68c1",
   "metadata": {},
   "outputs": [],
   "source": [
    "dt_f=DecisionTreeClassifier(criterion='entropy', max_depth=11, min_samples_leaf=10,\n",
    "                       min_samples_split=100)\n",
    "dt_f.fit(x_train1,y_train)\n",
    "print(\"train accuracy\",round(dt_f.score(x_train1,y_train),3))\n",
    "print(\"test accuracy\",round(dt_f.score(x_test1,y_test),3))"
   ]
  },
  {
   "cell_type": "code",
   "execution_count": null,
   "id": "7d0c0617",
   "metadata": {},
   "outputs": [],
   "source": [
    "pred_train=dt_f.predict(x_train1)\n",
    "pred_test=dt_f.predict(x_test1)"
   ]
  },
  {
   "cell_type": "code",
   "execution_count": null,
   "id": "12e43ceb",
   "metadata": {},
   "outputs": [],
   "source": [
    "prob_train_1=dt_f.predict_proba(x_train1)[:,1]\n",
    "prob_test_1=dt_f.predict_proba(x_test1)[:,1]"
   ]
  },
  {
   "cell_type": "code",
   "execution_count": null,
   "id": "466a4141",
   "metadata": {},
   "outputs": [],
   "source": [
    "metrics.accuracy_score(y_train,pred_train)\n",
    "metrics.accuracy_score(y_test,pred_test)"
   ]
  },
  {
   "cell_type": "code",
   "execution_count": null,
   "id": "2cc2cb1a",
   "metadata": {},
   "outputs": [],
   "source": [
    "metrics.recall_score(y_train,pred_train)\n",
    "metrics.recall_score(y_test,pred_test)"
   ]
  },
  {
   "cell_type": "code",
   "execution_count": null,
   "id": "843b41c0",
   "metadata": {},
   "outputs": [],
   "source": [
    "metrics.precision_score(y_train,pred_train)\n",
    "metrics.precision_score(y_test,pred_test)"
   ]
  },
  {
   "cell_type": "code",
   "execution_count": null,
   "id": "f7001f85",
   "metadata": {},
   "outputs": [],
   "source": [
    "metrics.f1_score(y_train,pred_train)\n",
    "metrics.f1_score(y_test,pred_test)"
   ]
  },
  {
   "cell_type": "code",
   "execution_count": null,
   "id": "ed9a0b0a",
   "metadata": {},
   "outputs": [],
   "source": [
    "metrics.roc_auc_score(y_train,pred_train)"
   ]
  },
  {
   "cell_type": "code",
   "execution_count": null,
   "id": "f3feb872",
   "metadata": {},
   "outputs": [],
   "source": [
    "def classification_eva(act,pred,probs):\n",
    "    ac1=metrics.accuracy_score(act,pred)\n",
    "    rc1=metrics.recall_score(act,pred)\n",
    "    pc1=metrics.precision_score(act,pred)\n",
    "    f1=metrics.f1_score(act,pred)\n",
    "    roc1=metrics.roc_auc_score(act,pred)\n",
    "    result={\"Accuracy\":ac1,\"Recall\":rc1,\"precision\":pc1,\"f1 score\":f1,\"Auc\":roc1}\n",
    "    \n",
    "    fpr,tpr, threshold=metrics.roc_curve(act,probs)\n",
    "    plt.plot([0,1],[0,1], 'k--')\n",
    "    plt.plot(fpr,tpr)\n",
    "    plt.xlabel('fpr')\n",
    "    plt.ylabel('tpr')\n",
    "    plt.show\n",
    "    return result"
   ]
  },
  {
   "cell_type": "code",
   "execution_count": null,
   "id": "8f280e36",
   "metadata": {},
   "outputs": [],
   "source": [
    "classification_eva(y_train,pred_train, probs=prob_train_1)"
   ]
  },
  {
   "cell_type": "code",
   "execution_count": null,
   "id": "d9a5e4f0",
   "metadata": {},
   "outputs": [],
   "source": [
    "classification_eva(y_test,pred_test,probs=prob_test_1)"
   ]
  },
  {
   "cell_type": "code",
   "execution_count": null,
   "id": "4075e06f",
   "metadata": {},
   "outputs": [],
   "source": [
    "\n",
    "def profile_decile(X,y,trained_model):\n",
    "    X_1=X.copy()\n",
    "    y_1=y.copy()\n",
    "    y_pred1=trained_model.predict(X_1)\n",
    "    X_1[\"Prob_Event\"]=trained_model.predict_proba(X_1)[:,1]\n",
    "    X_1[\"Y_actual\"]=y_1\n",
    "    X_1[\"Y_pred\"]=y_pred1\n",
    "    \n",
    "    X_1[\"Rank\"]=pd.qcut(X_1[\"Prob_Event\"], 10, labels=np.arange(0,10,1))\n",
    "    X_1[\"numb\"]=10\n",
    "    X_1[\"Decile\"]=X_1[\"numb\"]-X_1[\"Rank\"].astype(\"int\")\n",
    "    \n",
    "    profile=pd.DataFrame(X_1.groupby(\"Decile\") \\\n",
    "                        .apply(lambda x: pd.Series({\n",
    "        'min_score'   : x[\"Prob_Event\"].min(),\n",
    "        'max_score'   : x[\"Prob_Event\"].max(),\n",
    "        'Event'       : x[\"Y_actual\"].sum(),\n",
    "        'Non_event'   : x[\"Y_actual\"].count()-x[\"Y_actual\"].sum(),\n",
    "        'Total'       : x[\"Y_actual\"].count() })))\n",
    "    return profile"
   ]
  },
  {
   "cell_type": "markdown",
   "id": "c7240df8",
   "metadata": {},
   "source": [
    "## Random forest"
   ]
  },
  {
   "cell_type": "code",
   "execution_count": null,
   "id": "f71e8109",
   "metadata": {},
   "outputs": [],
   "source": [
    "x=bank1.drop(columns=[\"deposit\"])\n",
    "y=bank1[\"deposit\"]"
   ]
  },
  {
   "cell_type": "code",
   "execution_count": null,
   "id": "12bae19a",
   "metadata": {},
   "outputs": [],
   "source": [
    "x_train,x_test, y_train, y_test=train_test_split(x, y, test_size=.3,random_state=0)"
   ]
  },
  {
   "cell_type": "code",
   "execution_count": null,
   "id": "3494c985",
   "metadata": {},
   "outputs": [],
   "source": [
    "from sklearn.ensemble import RandomForestClassifier"
   ]
  },
  {
   "cell_type": "code",
   "execution_count": null,
   "id": "1bc43cbe",
   "metadata": {},
   "outputs": [],
   "source": [
    "rf=RandomForestClassifier()\n",
    "rf.fit(x_train,y_train)"
   ]
  },
  {
   "cell_type": "code",
   "execution_count": null,
   "id": "3ae0f66b",
   "metadata": {},
   "outputs": [],
   "source": [
    "print(\"Train Accuracy :\", rf.score(x_train, y_train))\n",
    "print(\"Test Accuracy :\" , rf.score(x_test, y_test))"
   ]
  },
  {
   "cell_type": "code",
   "execution_count": null,
   "id": "0ea41549",
   "metadata": {},
   "outputs": [],
   "source": [
    "from sklearn.model_selection import GridSearchCV"
   ]
  },
  {
   "cell_type": "code",
   "execution_count": null,
   "id": "a366e1f0",
   "metadata": {},
   "outputs": [],
   "source": [
    "# params={\"n_estimators\":[100,150,200,250,300],\n",
    "#        \"criterion\":[\"gini\",\"entropy\"],\n",
    "#        \"max_depth\":[5,7,9,11,15,17],\n",
    "#        \"min_samples_split\":[10,20,50,100,200],\n",
    "#        \"min_samples_leaf\":[5,10,15,20,30,50],\n",
    "#        \"max_features\":[\"sqrt\",\"log2\"],\n",
    "#        \"bootstrap\"=[True,False]}"
   ]
  },
  {
   "cell_type": "code",
   "execution_count": null,
   "id": "b04c0e6b",
   "metadata": {},
   "outputs": [],
   "source": [
    "import time"
   ]
  },
  {
   "cell_type": "code",
   "execution_count": null,
   "id": "39fad829",
   "metadata": {},
   "outputs": [],
   "source": [
    "tic=time.time()\n",
    "\n",
    "params={\"n_estimators\":[100,150,200],\n",
    "       \"criterion\":[\"gini\",\"entropy\"],\n",
    "       \"max_depth\":[7,9,11,15],\n",
    "       \"min_samples_split\":[50,100,200],\n",
    "       \"min_samples_leaf\":[5,10,15,20],\n",
    "       \"max_features\":[\"sqrt\",\"log2\"],\n",
    "       \"bootstrap\":[True]}\n",
    "rf1=RandomForestClassifier(random_state=0)\n",
    "gs_rf=GridSearchCV(estimator=rf1,param_grid=params, cv=10, n_jobs=-1, verbose=1)\n",
    "gs_rf.fit(x_train,y_train)\n",
    "toc=time.time()\n",
    "print(\"total time taken\", toc-tic)"
   ]
  },
  {
   "cell_type": "code",
   "execution_count": null,
   "id": "5fa81b0c",
   "metadata": {},
   "outputs": [],
   "source": [
    "gs_rf.best_score_"
   ]
  },
  {
   "cell_type": "code",
   "execution_count": null,
   "id": "b59109b8",
   "metadata": {},
   "outputs": [],
   "source": [
    "gs_rf.best_params_"
   ]
  },
  {
   "cell_type": "code",
   "execution_count": null,
   "id": "f98ed370",
   "metadata": {},
   "outputs": [],
   "source": [
    "gs_rf.best_estimator_"
   ]
  },
  {
   "cell_type": "code",
   "execution_count": null,
   "id": "40bcc82d",
   "metadata": {},
   "outputs": [],
   "source": [
    "rff=RandomForestClassifier(n_estimators=100, criterion=\"gini\",\n",
    "                      max_depth=15,\n",
    "                      min_samples_split=50,\n",
    "                      min_samples_leaf=5,\n",
    "                      max_features=\"sqrt\",\n",
    "                      bootstrap=True)"
   ]
  },
  {
   "cell_type": "code",
   "execution_count": null,
   "id": "6c0c36d9",
   "metadata": {},
   "outputs": [],
   "source": [
    "rff.fit(x_train,y_train)"
   ]
  },
  {
   "cell_type": "code",
   "execution_count": null,
   "id": "2ef9f9f9",
   "metadata": {},
   "outputs": [],
   "source": [
    "print(\"Train Accuracy :\", rff.score(x_train, y_train))\n",
    "print(\"Test Accuracy :\",rff.score(x_test,y_test))"
   ]
  },
  {
   "cell_type": "markdown",
   "id": "51f31940",
   "metadata": {},
   "source": [
    "## Feature importance"
   ]
  },
  {
   "cell_type": "code",
   "execution_count": null,
   "id": "164926bf",
   "metadata": {},
   "outputs": [],
   "source": [
    "pd.DataFrame({\"var\":x_train.columns, \"imp\":rff.feature_importances_}).sort_values(by=\"imp\", ascending=False)"
   ]
  },
  {
   "cell_type": "markdown",
   "id": "53863601",
   "metadata": {},
   "source": [
    "## model evaluation"
   ]
  },
  {
   "cell_type": "code",
   "execution_count": null,
   "id": "553154ae",
   "metadata": {},
   "outputs": [],
   "source": [
    "pred_train=rff.predict(x_train)\n",
    "pred_test=rff.predict(x_test)"
   ]
  },
  {
   "cell_type": "code",
   "execution_count": null,
   "id": "c1d1a42e",
   "metadata": {},
   "outputs": [],
   "source": [
    "prob_train_1=rff.predict_proba(x_train)[:,1]\n",
    "prob_test_1=rff.predict_proba(x_test)[:,1]"
   ]
  },
  {
   "cell_type": "code",
   "execution_count": null,
   "id": "219552b2",
   "metadata": {},
   "outputs": [],
   "source": [
    "classification_eva(act=y_train,pred=pred_train,probs=prob_train_1)"
   ]
  },
  {
   "cell_type": "code",
   "execution_count": null,
   "id": "9b2307df",
   "metadata": {},
   "outputs": [],
   "source": [
    "classification_eva(y_test,pred_test,prob_test_1)"
   ]
  },
  {
   "cell_type": "code",
   "execution_count": null,
   "id": "ae2194a9",
   "metadata": {},
   "outputs": [],
   "source": []
  },
  {
   "cell_type": "markdown",
   "id": "0a46f56d",
   "metadata": {},
   "source": [
    "## Xgboost"
   ]
  },
  {
   "cell_type": "code",
   "execution_count": null,
   "id": "588d18ac",
   "metadata": {},
   "outputs": [],
   "source": []
  }
 ],
 "metadata": {
  "kernelspec": {
   "display_name": "Python 3 (ipykernel)",
   "language": "python",
   "name": "python3"
  },
  "language_info": {
   "codemirror_mode": {
    "name": "ipython",
    "version": 3
   },
   "file_extension": ".py",
   "mimetype": "text/x-python",
   "name": "python",
   "nbconvert_exporter": "python",
   "pygments_lexer": "ipython3",
   "version": "3.9.12"
  }
 },
 "nbformat": 4,
 "nbformat_minor": 5
}
